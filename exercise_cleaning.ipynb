{
    "cells": [
        {
            "cell_type": "markdown",
            "metadata": {},
            "source": [
                "# Cleaning Data Exercises\n",
                "\n",
                "In this exercise, we'll be returning to the American Community Survey data we used previously to measuring racial income inequality in the United States. In today's exercise, we'll be using it to measure the returns to education and how those returns vary by race and gender.\n",
                "\n"
            ]
        },
        {
            "cell_type": "markdown",
            "metadata": {},
            "source": [
                "\n",
                "## Gradescope Autograding\n",
                "\n",
                "Please follow [all standard guidance](https://www.practicaldatascience.org/html/autograder_guidelines.html) for submitting this assignment to the Gradescope autograder, including storing your solutions in a dictionary called `results` and ensuring your notebook runs from the start to completion without any errors.\n",
                "\n",
                "For this assignment, please name your file `exercise_cleaning.ipynb` before uploading.\n",
                "\n",
                "You can check that you have answers for all questions in your `results` dictionary with this code:\n",
                "\n",
                "```python\n",
                "assert set(results.keys()) == {\n",
                "    \"ex5_age_young\",\n",
                "    \"ex5_age_old\",\n",
                "    \"ex7_avg_age\",\n",
                "    \"ex8_avg_age\",\n",
                "    \"ex9_num_college\",\n",
                "    \"ex11_share_male_w_degrees\",\n",
                "    \"ex11_share_female_w_degrees\",\n",
                "    \"ex12_comparing\",\n",
                "}\n",
                "```\n",
                "\n",
                "\n",
                "### Submission Limits\n",
                "\n",
                "Please remember that you are **only allowed three submissions to the autograder.** Your last submission (if you submit 3 or fewer times), or your third submission (if you submit more than 3 times) will determine your grade Submissions that error out will **not** count against this total."
            ]
        },
        {
            "cell_type": "markdown",
            "metadata": {},
            "source": [
                "## Exercises\n",
                "\n",
                "### Exercise 1\n",
                "\n",
                "For these cleaning exercises, we'll return to the ACS data we've used before one last time. We'll be working with `US_ACS_2017_10pct_sample.dta`. Import the data (please use url for the autograder)."
            ]
        },
        {
            "cell_type": "code",
            "execution_count": 2,
            "metadata": {},
            "outputs": [],
            "source": [
                "import pandas as pd\n",
                "\n",
                "pd.set_option(\"mode.copy_on_write\", True)\n",
                "\n",
                "survey = pd.read_stata(\n",
                "    \"https://github.com/nickeubank/MIDS_Data/raw/refs/heads/master/US_AmericanCommunitySurvey/US_ACS_2017_10pct_sample.dta\"\n",
                ")"
            ]
        },
        {
            "cell_type": "markdown",
            "metadata": {},
            "source": [
                "### Exercise 2\n",
                "\n",
                "For our exercises today, we'll focus on `age`, `sex`, `educ` (education), and `inctot` (total income). Subset your data to those variables, and quickly look at a sample of 10 rows."
            ]
        },
        {
            "cell_type": "code",
            "execution_count": 3,
            "metadata": {},
            "outputs": [
                {
                    "data": {
                        "application/vnd.microsoft.datawrangler.viewer.v0+json": {
                            "columns": [
                                {
                                    "name": "index",
                                    "rawType": "int64",
                                    "type": "integer"
                                },
                                {
                                    "name": "age",
                                    "rawType": "category",
                                    "type": "unknown"
                                },
                                {
                                    "name": "sex",
                                    "rawType": "category",
                                    "type": "unknown"
                                },
                                {
                                    "name": "educ",
                                    "rawType": "category",
                                    "type": "unknown"
                                },
                                {
                                    "name": "inctot",
                                    "rawType": "int32",
                                    "type": "integer"
                                }
                            ],
                            "ref": "fa3009a9-74bf-4fa7-8721-5333b97c444e",
                            "rows": [
                                [
                                    "37432",
                                    "27",
                                    "male",
                                    "2 years of college",
                                    "9000"
                                ],
                                [
                                    "296913",
                                    "24",
                                    "male",
                                    "grade 12",
                                    "1000"
                                ],
                                [
                                    "315969",
                                    "51",
                                    "male",
                                    "n/a or no schooling",
                                    "21600"
                                ],
                                [
                                    "132244",
                                    "12",
                                    "male",
                                    "grade 5, 6, 7, or 8",
                                    "9999999"
                                ],
                                [
                                    "30854",
                                    "34",
                                    "female",
                                    "4 years of college",
                                    "45000"
                                ],
                                [
                                    "54979",
                                    "14",
                                    "male",
                                    "grade 5, 6, 7, or 8",
                                    "9999999"
                                ],
                                [
                                    "173267",
                                    "75",
                                    "female",
                                    "grade 12",
                                    "12800"
                                ],
                                [
                                    "166508",
                                    "77",
                                    "female",
                                    "grade 12",
                                    "7200"
                                ],
                                [
                                    "25243",
                                    "37",
                                    "male",
                                    "4 years of college",
                                    "80000"
                                ],
                                [
                                    "171597",
                                    "51",
                                    "female",
                                    "1 year of college",
                                    "45500"
                                ]
                            ],
                            "shape": {
                                "columns": 4,
                                "rows": 10
                            }
                        },
                        "text/html": [
                            "<div>\n",
                            "<style scoped>\n",
                            "    .dataframe tbody tr th:only-of-type {\n",
                            "        vertical-align: middle;\n",
                            "    }\n",
                            "\n",
                            "    .dataframe tbody tr th {\n",
                            "        vertical-align: top;\n",
                            "    }\n",
                            "\n",
                            "    .dataframe thead th {\n",
                            "        text-align: right;\n",
                            "    }\n",
                            "</style>\n",
                            "<table border=\"1\" class=\"dataframe\">\n",
                            "  <thead>\n",
                            "    <tr style=\"text-align: right;\">\n",
                            "      <th></th>\n",
                            "      <th>age</th>\n",
                            "      <th>sex</th>\n",
                            "      <th>educ</th>\n",
                            "      <th>inctot</th>\n",
                            "    </tr>\n",
                            "  </thead>\n",
                            "  <tbody>\n",
                            "    <tr>\n",
                            "      <th>37432</th>\n",
                            "      <td>27</td>\n",
                            "      <td>male</td>\n",
                            "      <td>2 years of college</td>\n",
                            "      <td>9000</td>\n",
                            "    </tr>\n",
                            "    <tr>\n",
                            "      <th>296913</th>\n",
                            "      <td>24</td>\n",
                            "      <td>male</td>\n",
                            "      <td>grade 12</td>\n",
                            "      <td>1000</td>\n",
                            "    </tr>\n",
                            "    <tr>\n",
                            "      <th>315969</th>\n",
                            "      <td>51</td>\n",
                            "      <td>male</td>\n",
                            "      <td>n/a or no schooling</td>\n",
                            "      <td>21600</td>\n",
                            "    </tr>\n",
                            "    <tr>\n",
                            "      <th>132244</th>\n",
                            "      <td>12</td>\n",
                            "      <td>male</td>\n",
                            "      <td>grade 5, 6, 7, or 8</td>\n",
                            "      <td>9999999</td>\n",
                            "    </tr>\n",
                            "    <tr>\n",
                            "      <th>30854</th>\n",
                            "      <td>34</td>\n",
                            "      <td>female</td>\n",
                            "      <td>4 years of college</td>\n",
                            "      <td>45000</td>\n",
                            "    </tr>\n",
                            "    <tr>\n",
                            "      <th>54979</th>\n",
                            "      <td>14</td>\n",
                            "      <td>male</td>\n",
                            "      <td>grade 5, 6, 7, or 8</td>\n",
                            "      <td>9999999</td>\n",
                            "    </tr>\n",
                            "    <tr>\n",
                            "      <th>173267</th>\n",
                            "      <td>75</td>\n",
                            "      <td>female</td>\n",
                            "      <td>grade 12</td>\n",
                            "      <td>12800</td>\n",
                            "    </tr>\n",
                            "    <tr>\n",
                            "      <th>166508</th>\n",
                            "      <td>77</td>\n",
                            "      <td>female</td>\n",
                            "      <td>grade 12</td>\n",
                            "      <td>7200</td>\n",
                            "    </tr>\n",
                            "    <tr>\n",
                            "      <th>25243</th>\n",
                            "      <td>37</td>\n",
                            "      <td>male</td>\n",
                            "      <td>4 years of college</td>\n",
                            "      <td>80000</td>\n",
                            "    </tr>\n",
                            "    <tr>\n",
                            "      <th>171597</th>\n",
                            "      <td>51</td>\n",
                            "      <td>female</td>\n",
                            "      <td>1 year of college</td>\n",
                            "      <td>45500</td>\n",
                            "    </tr>\n",
                            "  </tbody>\n",
                            "</table>\n",
                            "</div>"
                        ],
                        "text/plain": [
                            "       age     sex                 educ   inctot\n",
                            "37432   27    male   2 years of college     9000\n",
                            "296913  24    male             grade 12     1000\n",
                            "315969  51    male  n/a or no schooling    21600\n",
                            "132244  12    male  grade 5, 6, 7, or 8  9999999\n",
                            "30854   34  female   4 years of college    45000\n",
                            "54979   14    male  grade 5, 6, 7, or 8  9999999\n",
                            "173267  75  female             grade 12    12800\n",
                            "166508  77  female             grade 12     7200\n",
                            "25243   37    male   4 years of college    80000\n",
                            "171597  51  female    1 year of college    45500"
                        ]
                    },
                    "execution_count": 3,
                    "metadata": {},
                    "output_type": "execute_result"
                }
            ],
            "source": [
                "acs = survey[[\"age\", \"sex\", \"educ\", \"inctot\"]]\n",
                "acs.sample(10)"
            ]
        },
        {
            "cell_type": "markdown",
            "metadata": {},
            "source": [
                "### Exercise 3\n",
                "\n",
                "As before, all the values of `9999999` have the potential to cause us real problems, so replace all the values of `inctot` that are `9999999` with `np.nan`. "
            ]
        },
        {
            "cell_type": "code",
            "execution_count": 4,
            "metadata": {},
            "outputs": [
                {
                    "data": {
                        "application/vnd.microsoft.datawrangler.viewer.v0+json": {
                            "columns": [
                                {
                                    "name": "index",
                                    "rawType": "int64",
                                    "type": "integer"
                                },
                                {
                                    "name": "age",
                                    "rawType": "category",
                                    "type": "unknown"
                                },
                                {
                                    "name": "sex",
                                    "rawType": "category",
                                    "type": "unknown"
                                },
                                {
                                    "name": "educ",
                                    "rawType": "category",
                                    "type": "unknown"
                                },
                                {
                                    "name": "inctot",
                                    "rawType": "float64",
                                    "type": "float"
                                }
                            ],
                            "ref": "081bd77d-0fec-44b3-bc50-9fdda4f4b57e",
                            "rows": [
                                [
                                    "19909",
                                    "3",
                                    "male",
                                    "n/a or no schooling",
                                    null
                                ],
                                [
                                    "24970",
                                    "44",
                                    "male",
                                    "1 year of college",
                                    "35000.0"
                                ],
                                [
                                    "272211",
                                    "14",
                                    "female",
                                    "grade 5, 6, 7, or 8",
                                    null
                                ],
                                [
                                    "96071",
                                    "30",
                                    "male",
                                    "4 years of college",
                                    "36000.0"
                                ],
                                [
                                    "204715",
                                    "44",
                                    "female",
                                    "grade 5, 6, 7, or 8",
                                    "9900.0"
                                ],
                                [
                                    "53680",
                                    "2",
                                    "male",
                                    "n/a or no schooling",
                                    null
                                ],
                                [
                                    "213579",
                                    "64",
                                    "female",
                                    "5+ years of college",
                                    "75000.0"
                                ],
                                [
                                    "285925",
                                    "55",
                                    "male",
                                    "1 year of college",
                                    "80000.0"
                                ],
                                [
                                    "230955",
                                    "60",
                                    "male",
                                    "grade 12",
                                    "60000.0"
                                ],
                                [
                                    "47516",
                                    "17",
                                    "male",
                                    "grade 11",
                                    "3200.0"
                                ]
                            ],
                            "shape": {
                                "columns": 4,
                                "rows": 10
                            }
                        },
                        "text/html": [
                            "<div>\n",
                            "<style scoped>\n",
                            "    .dataframe tbody tr th:only-of-type {\n",
                            "        vertical-align: middle;\n",
                            "    }\n",
                            "\n",
                            "    .dataframe tbody tr th {\n",
                            "        vertical-align: top;\n",
                            "    }\n",
                            "\n",
                            "    .dataframe thead th {\n",
                            "        text-align: right;\n",
                            "    }\n",
                            "</style>\n",
                            "<table border=\"1\" class=\"dataframe\">\n",
                            "  <thead>\n",
                            "    <tr style=\"text-align: right;\">\n",
                            "      <th></th>\n",
                            "      <th>age</th>\n",
                            "      <th>sex</th>\n",
                            "      <th>educ</th>\n",
                            "      <th>inctot</th>\n",
                            "    </tr>\n",
                            "  </thead>\n",
                            "  <tbody>\n",
                            "    <tr>\n",
                            "      <th>19909</th>\n",
                            "      <td>3</td>\n",
                            "      <td>male</td>\n",
                            "      <td>n/a or no schooling</td>\n",
                            "      <td>NaN</td>\n",
                            "    </tr>\n",
                            "    <tr>\n",
                            "      <th>24970</th>\n",
                            "      <td>44</td>\n",
                            "      <td>male</td>\n",
                            "      <td>1 year of college</td>\n",
                            "      <td>35000.0</td>\n",
                            "    </tr>\n",
                            "    <tr>\n",
                            "      <th>272211</th>\n",
                            "      <td>14</td>\n",
                            "      <td>female</td>\n",
                            "      <td>grade 5, 6, 7, or 8</td>\n",
                            "      <td>NaN</td>\n",
                            "    </tr>\n",
                            "    <tr>\n",
                            "      <th>96071</th>\n",
                            "      <td>30</td>\n",
                            "      <td>male</td>\n",
                            "      <td>4 years of college</td>\n",
                            "      <td>36000.0</td>\n",
                            "    </tr>\n",
                            "    <tr>\n",
                            "      <th>204715</th>\n",
                            "      <td>44</td>\n",
                            "      <td>female</td>\n",
                            "      <td>grade 5, 6, 7, or 8</td>\n",
                            "      <td>9900.0</td>\n",
                            "    </tr>\n",
                            "    <tr>\n",
                            "      <th>53680</th>\n",
                            "      <td>2</td>\n",
                            "      <td>male</td>\n",
                            "      <td>n/a or no schooling</td>\n",
                            "      <td>NaN</td>\n",
                            "    </tr>\n",
                            "    <tr>\n",
                            "      <th>213579</th>\n",
                            "      <td>64</td>\n",
                            "      <td>female</td>\n",
                            "      <td>5+ years of college</td>\n",
                            "      <td>75000.0</td>\n",
                            "    </tr>\n",
                            "    <tr>\n",
                            "      <th>285925</th>\n",
                            "      <td>55</td>\n",
                            "      <td>male</td>\n",
                            "      <td>1 year of college</td>\n",
                            "      <td>80000.0</td>\n",
                            "    </tr>\n",
                            "    <tr>\n",
                            "      <th>230955</th>\n",
                            "      <td>60</td>\n",
                            "      <td>male</td>\n",
                            "      <td>grade 12</td>\n",
                            "      <td>60000.0</td>\n",
                            "    </tr>\n",
                            "    <tr>\n",
                            "      <th>47516</th>\n",
                            "      <td>17</td>\n",
                            "      <td>male</td>\n",
                            "      <td>grade 11</td>\n",
                            "      <td>3200.0</td>\n",
                            "    </tr>\n",
                            "  </tbody>\n",
                            "</table>\n",
                            "</div>"
                        ],
                        "text/plain": [
                            "       age     sex                 educ   inctot\n",
                            "19909    3    male  n/a or no schooling      NaN\n",
                            "24970   44    male    1 year of college  35000.0\n",
                            "272211  14  female  grade 5, 6, 7, or 8      NaN\n",
                            "96071   30    male   4 years of college  36000.0\n",
                            "204715  44  female  grade 5, 6, 7, or 8   9900.0\n",
                            "53680    2    male  n/a or no schooling      NaN\n",
                            "213579  64  female  5+ years of college  75000.0\n",
                            "285925  55    male    1 year of college  80000.0\n",
                            "230955  60    male             grade 12  60000.0\n",
                            "47516   17    male             grade 11   3200.0"
                        ]
                    },
                    "execution_count": 4,
                    "metadata": {},
                    "output_type": "execute_result"
                }
            ],
            "source": [
                "import numpy as np\n",
                "\n",
                "acs[\"inctot\"] = acs[\"inctot\"].replace(9_999_999, np.nan)\n",
                "acs.sample(10)"
            ]
        },
        {
            "cell_type": "markdown",
            "metadata": {},
            "source": [
                "### Exercise 4\n",
                "\n",
                "Attempt to calculate the average age of people in our data. What do you get? Why are you getting that error?\n",
                "\n",
                "You *should* get an error in trying to answer this question, but **PLEASE LEAVE THE CODE THAT GENERATES THIS ERROR COMMENTED OUT SO YOUR NOTEBOOK WILL RUN IN THE AUTOGRADER**. \n",
                "\n",
                "Then talk about the error in a markdown cell."
            ]
        },
        {
            "cell_type": "code",
            "execution_count": 5,
            "metadata": {},
            "outputs": [],
            "source": [
                "# acs['age'].mean()"
            ]
        },
        {
            "cell_type": "markdown",
            "metadata": {},
            "source": [
                "The error we see is: \n",
                "TypeError: 'Categorical' with dtype category does not support reduction 'mean'.\n",
                "This means that the data type is categorical, which is not the expected float data type we need for the age variable for calculation."
            ]
        },
        {
            "cell_type": "markdown",
            "metadata": {},
            "source": [
                "### Exercise 5\n",
                "\n",
                "We want to be able to calculate things using age, so we need it to be a numeric type. Check the current type of `age`, and look at all the values of `age` to figure out why it's categorical and not numeric. You should find two problematic categories. Store the values of these categories in `\"ex5_age_young\"` and `\"ex5_age_old\"` (once you find them, it should be clear which is which)."
            ]
        },
        {
            "cell_type": "code",
            "execution_count": 6,
            "metadata": {},
            "outputs": [
                {
                    "name": "stdout",
                    "output_type": "stream",
                    "text": [
                        "category\n"
                    ]
                },
                {
                    "data": {
                        "application/vnd.microsoft.datawrangler.viewer.v0+json": {
                            "columns": [
                                {
                                    "name": "age",
                                    "rawType": "category",
                                    "type": "unknown"
                                },
                                {
                                    "name": "count",
                                    "rawType": "int64",
                                    "type": "integer"
                                }
                            ],
                            "ref": "be6c2a1a-b0da-497c-947a-1e2fd28bd410",
                            "rows": [
                                [
                                    "60",
                                    "4950"
                                ],
                                [
                                    "54",
                                    "4821"
                                ],
                                [
                                    "59",
                                    "4776"
                                ],
                                [
                                    "56",
                                    "4776"
                                ],
                                [
                                    "58",
                                    "4734"
                                ],
                                [
                                    "57",
                                    "4720"
                                ],
                                [
                                    "55",
                                    "4693"
                                ],
                                [
                                    "61",
                                    "4644"
                                ],
                                [
                                    "62",
                                    "4614"
                                ],
                                [
                                    "53",
                                    "4600"
                                ],
                                [
                                    "18",
                                    "4496"
                                ],
                                [
                                    "63",
                                    "4488"
                                ],
                                [
                                    "52",
                                    "4418"
                                ],
                                [
                                    "65",
                                    "4362"
                                ],
                                [
                                    "19",
                                    "4342"
                                ],
                                [
                                    "64",
                                    "4287"
                                ],
                                [
                                    "50",
                                    "4272"
                                ],
                                [
                                    "47",
                                    "4256"
                                ],
                                [
                                    "16",
                                    "4106"
                                ],
                                [
                                    "66",
                                    "4106"
                                ],
                                [
                                    "46",
                                    "4064"
                                ],
                                [
                                    "67",
                                    "4055"
                                ],
                                [
                                    "51",
                                    "4021"
                                ],
                                [
                                    "17",
                                    "4021"
                                ],
                                [
                                    "10",
                                    "3997"
                                ],
                                [
                                    "20",
                                    "3992"
                                ],
                                [
                                    "9",
                                    "3977"
                                ],
                                [
                                    "48",
                                    "3956"
                                ],
                                [
                                    "70",
                                    "3953"
                                ],
                                [
                                    "68",
                                    "3951"
                                ],
                                [
                                    "34",
                                    "3942"
                                ],
                                [
                                    "15",
                                    "3942"
                                ],
                                [
                                    "49",
                                    "3940"
                                ],
                                [
                                    "45",
                                    "3939"
                                ],
                                [
                                    "30",
                                    "3917"
                                ],
                                [
                                    "27",
                                    "3884"
                                ],
                                [
                                    "40",
                                    "3884"
                                ],
                                [
                                    "32",
                                    "3883"
                                ],
                                [
                                    "31",
                                    "3880"
                                ],
                                [
                                    "69",
                                    "3877"
                                ],
                                [
                                    "37",
                                    "3870"
                                ],
                                [
                                    "35",
                                    "3867"
                                ],
                                [
                                    "14",
                                    "3847"
                                ],
                                [
                                    "12",
                                    "3845"
                                ],
                                [
                                    "36",
                                    "3834"
                                ],
                                [
                                    "29",
                                    "3810"
                                ],
                                [
                                    "28",
                                    "3808"
                                ],
                                [
                                    "13",
                                    "3800"
                                ],
                                [
                                    "11",
                                    "3791"
                                ],
                                [
                                    "39",
                                    "3783"
                                ]
                            ],
                            "shape": {
                                "columns": 1,
                                "rows": 97
                            }
                        },
                        "text/plain": [
                            "age\n",
                            "60    4950\n",
                            "54    4821\n",
                            "59    4776\n",
                            "56    4776\n",
                            "58    4734\n",
                            "      ... \n",
                            "93     476\n",
                            "95     471\n",
                            "92     355\n",
                            "91     227\n",
                            "96      10\n",
                            "Name: count, Length: 97, dtype: int64"
                        ]
                    },
                    "execution_count": 6,
                    "metadata": {},
                    "output_type": "execute_result"
                }
            ],
            "source": [
                "results = {}\n",
                "print(acs[\"age\"].dtype)\n",
                "ex5_age_young = \"less than 1 year old\"\n",
                "ex5_age_old = \"90 (90+ in 1980 and 1990)\"\n",
                "\n",
                "results[\"ex5_age_young\"] = ex5_age_young\n",
                "results[\"ex5_age_old\"] = ex5_age_old\n",
                "\n",
                "acs[\"age\"].value_counts()"
            ]
        },
        {
            "cell_type": "markdown",
            "metadata": {},
            "source": [
                "### Exercise 6\n",
                "\n",
                "In order to convert `age` into a numeric variable, we need to replace those problematic entries with values that `pandas` can later convert into numbers. Pick appropriate substitutions for the existing values and replace the current values. \n",
                "\n",
                "**Hint 1:** Categorical variables act like strings, so you might want to use string methods! \n",
                "\n",
                "**Hint 2:** Remember that characters like parentheses, pluses, asterisks, etc. are special in Python strings, and you have to escape them if you want them to be interpreted literally!\n",
                "\n",
                "**Hint 3:** Because the US Census has been conducted regularly for hundreds of years but exactly how the census has been conducted have occasionally changed, variables are sometimes coded in a way that might be interpreted in different ways for different census years. For example, hypothetically, one might write `90 (90+ in 1980 and 1990)` if the Censuses conducted in 1980 and 1990 used to top-code age at 90 (any values *over* 90 were just coded as 90), but more recent Censuses no longer top-coded age and recorded ages over 90 as the respondents actual age."
            ]
        },
        {
            "cell_type": "code",
            "execution_count": 7,
            "metadata": {},
            "outputs": [],
            "source": [
                "acs[\"age\"] = acs[\"age\"].cat.rename_categories({ex5_age_young: \"0\", ex5_age_old: \"90\"})"
            ]
        },
        {
            "cell_type": "markdown",
            "metadata": {},
            "source": [
                "### Exercise 7\n",
                "\n",
                "Now convert age from a categorical to numeric. Calculate the average age amoung this group, and store it in `\"ex7_avg_age\"`."
            ]
        },
        {
            "cell_type": "code",
            "execution_count": 8,
            "metadata": {},
            "outputs": [
                {
                    "name": "stdout",
                    "output_type": "stream",
                    "text": [
                        "The average age of the dataset is 41\n"
                    ]
                }
            ],
            "source": [
                "acs[\"age\"] = pd.to_numeric(acs[\"age\"])\n",
                "\n",
                "ex7_avg_age = acs[\"age\"].mean()\n",
                "\n",
                "results[\"ex7_avg_age\"] = ex7_avg_age\n",
                "\n",
                "print(f\"The average age of the dataset is {ex7_avg_age:.0f}\")"
            ]
        },
        {
            "cell_type": "markdown",
            "metadata": {},
            "source": [
                "### Exercise 8\n",
                "\n",
                "Let's now filter out anyone in our data whose age is less than 18. Note that before made `age` a numeric variable, we couldn't do this! Again, calculate the average age and this time store it in `\"ex8_avg_age\"`. \n",
                "\n",
                "Use this sample of people 18 and over for all subsequent exercises."
            ]
        },
        {
            "cell_type": "code",
            "execution_count": 9,
            "metadata": {},
            "outputs": [
                {
                    "name": "stdout",
                    "output_type": "stream",
                    "text": [
                        "The average age of people over 18 is 50\n"
                    ]
                }
            ],
            "source": [
                "over18 = acs[acs[\"age\"] >= 18]\n",
                "\n",
                "ex8_avg_age = over18[\"age\"].mean()\n",
                "\n",
                "results[\"ex8_avg_age\"] = ex8_avg_age\n",
                "\n",
                "print(f\"The average age of people over 18 is {ex8_avg_age:.0f}\")"
            ]
        },
        {
            "cell_type": "markdown",
            "metadata": {},
            "source": [
                "### Exercise 9\n",
                "\n",
                "Create an indicator variable for whether each person has *at least* a college Bachelor's degree called `college_degree`. Use this variable to calculate the number of people in the dataset with a college degree. You may assume that to get a college degree you need to complete at least 4 years of college. Save the result as `\"ex9_num_college\"`."
            ]
        },
        {
            "cell_type": "code",
            "execution_count": null,
            "metadata": {},
            "outputs": [
                {
                    "name": "stdout",
                    "output_type": "stream",
                    "text": [
                        "the number of people in the dataset with a college degree is 77013\n"
                    ]
                }
            ],
            "source": [
                "over18[\"educ\"].value_counts()\n",
                "\n",
                "over18[\"college_degree\"] = (over18[\"educ\"] == \"4 years of college\") | (\n",
                "    over18[\"educ\"] == \"5+ years of college\"\n",
                ")\n",
                "\n",
                "college_grads = over18.loc[over18[\"college_degree\"] == True]\n",
                "ex9_num_college = len(college_grads)\n",
                "results[\"ex9_num_college\"] = ex9_num_college\n",
                "\n",
                "print(f\"the number of people in the dataset with a college degree is {ex9_num_college}\")"
            ]
        },
        {
            "cell_type": "markdown",
            "metadata": {},
            "source": [
                "### Exercise 10\n",
                "\n",
                "Let's examine how the educational gender gap. Use `pd.crosstab` to create a cross-tabulation of `sex` and `college_degree`. `pd.crosstab` will give you the number of people who have each combination of `sex` and `college_degree` (so in this case, it will give us a 2x2 table with Male and Female as rows, and `college_degree` True and False as columns, or vice versa. "
            ]
        },
        {
            "cell_type": "code",
            "execution_count": null,
            "metadata": {},
            "outputs": [],
            "source": [
                "pd.crosstab(over18[\"sex\"], over18[\"college_degree\"])"
            ]
        },
        {
            "cell_type": "code",
            "execution_count": null,
            "metadata": {},
            "outputs": [],
            "source": []
        },
        {
            "cell_type": "markdown",
            "metadata": {},
            "source": [
                "### Exercise 11\n",
                "\n",
                "Counts are kind of hard to interpret. `pd.crosstab` can also normalize values to give percentages. Look at the `pd.crosstab` help file to figure out how to normalize the values in the table. Normalize them so that you get the share of men with and without college degree, and the share of women with and without college degrees.\n",
                "\n",
                "Store the share (between 0 and 1) of men with college degrees in `\"ex11_share_male_w_degrees\"`, and the share of women with degrees in `\"ex11_share_female_w_degrees\"`."
            ]
        },
        {
            "cell_type": "markdown",
            "metadata": {},
            "source": [
                "### Exercise 12\n",
                "\n",
                "Now, let's recreate that table for people who are 40 and over and people under 40. Over time, what does this suggest about the absolute difference in the share of men and women earning college degrees? Has it gotten larger, stayed the same, or gotten smaller? Store your answer (either `\"the absolute difference has increased\"` or `\"the absolute difference has decreased\"`) in `\"ex12_comparing\"`."
            ]
        },
        {
            "cell_type": "markdown",
            "metadata": {},
            "source": [
                "### Exercise 13\n",
                "\n",
                "In words, what is causing the change noted in Exercise 12 (i.e., looking at the tables above, tell me a story about Men and Women's College attainment)."
            ]
        },
        {
            "cell_type": "markdown",
            "metadata": {},
            "source": [
                "## Want More Practice?\n",
                "\n",
                "Calculate the educational racial gap in the United States for White Americans, Black Americans, Hispanic Americans, and other groups. \n",
                "\n",
                "Note that to do these calculations, you'll have to deal with the fact that unlike most Americans, the American Census Bureau treats \"Hispanic\" not as a racial category, but a linguistic one. As a result, the racial category \"White\" in `race` actually includes most Hispanic Americans. For this analysis, we wish to work with the mutually exclusive categories of \"White, non-Hispanic\", \"White, Hispanic\", \"Black (Hispanic or non-Hispanic)\", and a category for everyone else. "
            ]
        }
    ],
    "metadata": {
        "kernelspec": {
            "display_name": "base",
            "language": "python",
            "name": "python3"
        },
        "language_info": {
            "codemirror_mode": {
                "name": "ipython",
                "version": 3
            },
            "file_extension": ".py",
            "mimetype": "text/x-python",
            "name": "python",
            "nbconvert_exporter": "python",
            "pygments_lexer": "ipython3",
            "version": "3.12.11"
        }
    },
    "nbformat": 4,
    "nbformat_minor": 4
}
