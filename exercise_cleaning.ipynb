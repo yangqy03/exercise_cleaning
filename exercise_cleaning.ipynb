{
    "cells": [
        {
            "cell_type": "markdown",
            "metadata": {},
            "source": [
                "# Cleaning Data Exercises\n",
                "\n",
                "In this exercise, we'll be returning to the American Community Survey data we used previously to measuring racial income inequality in the United States. In today's exercise, we'll be using it to measure the returns to education and how those returns vary by race and gender.\n",
                "\n"
            ]
        },
        {
            "cell_type": "markdown",
            "metadata": {},
            "source": [
                "\n",
                "## Gradescope Autograding\n",
                "\n",
                "Please follow [all standard guidance](https://www.practicaldatascience.org/html/autograder_guidelines.html) for submitting this assignment to the Gradescope autograder, including storing your solutions in a dictionary called `results` and ensuring your notebook runs from the start to completion without any errors.\n",
                "\n",
                "For this assignment, please name your file `exercise_cleaning.ipynb` before uploading.\n",
                "\n",
                "You can check that you have answers for all questions in your `results` dictionary with this code:\n",
                "\n",
                "```python\n",
                "assert set(results.keys()) == {\n",
                "    \"ex5_age_young\",\n",
                "    \"ex5_age_old\",\n",
                "    \"ex7_avg_age\",\n",
                "    \"ex8_avg_age\",\n",
                "    \"ex9_num_college\",\n",
                "    \"ex11_share_male_w_degrees\",\n",
                "    \"ex11_share_female_w_degrees\",\n",
                "    \"ex12_comparing\",\n",
                "}\n",
                "```\n",
                "\n",
                "\n",
                "### Submission Limits\n",
                "\n",
                "Please remember that you are **only allowed three submissions to the autograder.** Your last submission (if you submit 3 or fewer times), or your third submission (if you submit more than 3 times) will determine your grade Submissions that error out will **not** count against this total."
            ]
        },
        {
            "cell_type": "markdown",
            "metadata": {},
            "source": [
                "## Exercises\n",
                "\n",
                "### Exercise 1\n",
                "\n",
                "For these cleaning exercises, we'll return to the ACS data we've used before one last time. We'll be working with `US_ACS_2017_10pct_sample.dta`. Import the data (please use url for the autograder)."
            ]
        },
        {
            "cell_type": "code",
            "execution_count": 2,
            "metadata": {},
            "outputs": [],
            "source": [
                "import pandas as pd\n",
                "\n",
                "pd.set_option(\"mode.copy_on_write\", True)\n",
                "\n",
                "survey = pd.read_stata(\n",
                "    \"https://github.com/nickeubank/MIDS_Data/raw/refs/heads/master/US_AmericanCommunitySurvey/US_ACS_2017_10pct_sample.dta\"\n",
                ")"
            ]
        },
        {
            "cell_type": "markdown",
            "metadata": {},
            "source": [
                "### Exercise 2\n",
                "\n",
                "For our exercises today, we'll focus on `age`, `sex`, `educ` (education), and `inctot` (total income). Subset your data to those variables, and quickly look at a sample of 10 rows."
            ]
        },
        {
            "cell_type": "code",
            "execution_count": 3,
            "metadata": {},
            "outputs": [
                {
                    "data": {
                        "application/vnd.microsoft.datawrangler.viewer.v0+json": {
                            "columns": [
                                {
                                    "name": "index",
                                    "rawType": "int64",
                                    "type": "integer"
                                },
                                {
                                    "name": "age",
                                    "rawType": "category",
                                    "type": "unknown"
                                },
                                {
                                    "name": "sex",
                                    "rawType": "category",
                                    "type": "unknown"
                                },
                                {
                                    "name": "educ",
                                    "rawType": "category",
                                    "type": "unknown"
                                },
                                {
                                    "name": "inctot",
                                    "rawType": "int32",
                                    "type": "integer"
                                }
                            ],
                            "ref": "8e17d6bd-4b10-4068-b0fb-ced750c7b873",
                            "rows": [
                                [
                                    "134826",
                                    "18",
                                    "female",
                                    "grade 11",
                                    "0"
                                ],
                                [
                                    "33293",
                                    "3",
                                    "female",
                                    "n/a or no schooling",
                                    "9999999"
                                ],
                                [
                                    "68495",
                                    "33",
                                    "male",
                                    "1 year of college",
                                    "15000"
                                ],
                                [
                                    "270717",
                                    "36",
                                    "female",
                                    "4 years of college",
                                    "0"
                                ],
                                [
                                    "14509",
                                    "36",
                                    "male",
                                    "1 year of college",
                                    "36000"
                                ],
                                [
                                    "40023",
                                    "50",
                                    "male",
                                    "4 years of college",
                                    "120200"
                                ],
                                [
                                    "67630",
                                    "47",
                                    "female",
                                    "2 years of college",
                                    "0"
                                ],
                                [
                                    "21225",
                                    "50",
                                    "male",
                                    "grade 9",
                                    "22900"
                                ],
                                [
                                    "61686",
                                    "28",
                                    "male",
                                    "grade 12",
                                    "21200"
                                ],
                                [
                                    "38877",
                                    "63",
                                    "male",
                                    "2 years of college",
                                    "135000"
                                ]
                            ],
                            "shape": {
                                "columns": 4,
                                "rows": 10
                            }
                        },
                        "text/html": [
                            "<div>\n",
                            "<style scoped>\n",
                            "    .dataframe tbody tr th:only-of-type {\n",
                            "        vertical-align: middle;\n",
                            "    }\n",
                            "\n",
                            "    .dataframe tbody tr th {\n",
                            "        vertical-align: top;\n",
                            "    }\n",
                            "\n",
                            "    .dataframe thead th {\n",
                            "        text-align: right;\n",
                            "    }\n",
                            "</style>\n",
                            "<table border=\"1\" class=\"dataframe\">\n",
                            "  <thead>\n",
                            "    <tr style=\"text-align: right;\">\n",
                            "      <th></th>\n",
                            "      <th>age</th>\n",
                            "      <th>sex</th>\n",
                            "      <th>educ</th>\n",
                            "      <th>inctot</th>\n",
                            "    </tr>\n",
                            "  </thead>\n",
                            "  <tbody>\n",
                            "    <tr>\n",
                            "      <th>134826</th>\n",
                            "      <td>18</td>\n",
                            "      <td>female</td>\n",
                            "      <td>grade 11</td>\n",
                            "      <td>0</td>\n",
                            "    </tr>\n",
                            "    <tr>\n",
                            "      <th>33293</th>\n",
                            "      <td>3</td>\n",
                            "      <td>female</td>\n",
                            "      <td>n/a or no schooling</td>\n",
                            "      <td>9999999</td>\n",
                            "    </tr>\n",
                            "    <tr>\n",
                            "      <th>68495</th>\n",
                            "      <td>33</td>\n",
                            "      <td>male</td>\n",
                            "      <td>1 year of college</td>\n",
                            "      <td>15000</td>\n",
                            "    </tr>\n",
                            "    <tr>\n",
                            "      <th>270717</th>\n",
                            "      <td>36</td>\n",
                            "      <td>female</td>\n",
                            "      <td>4 years of college</td>\n",
                            "      <td>0</td>\n",
                            "    </tr>\n",
                            "    <tr>\n",
                            "      <th>14509</th>\n",
                            "      <td>36</td>\n",
                            "      <td>male</td>\n",
                            "      <td>1 year of college</td>\n",
                            "      <td>36000</td>\n",
                            "    </tr>\n",
                            "    <tr>\n",
                            "      <th>40023</th>\n",
                            "      <td>50</td>\n",
                            "      <td>male</td>\n",
                            "      <td>4 years of college</td>\n",
                            "      <td>120200</td>\n",
                            "    </tr>\n",
                            "    <tr>\n",
                            "      <th>67630</th>\n",
                            "      <td>47</td>\n",
                            "      <td>female</td>\n",
                            "      <td>2 years of college</td>\n",
                            "      <td>0</td>\n",
                            "    </tr>\n",
                            "    <tr>\n",
                            "      <th>21225</th>\n",
                            "      <td>50</td>\n",
                            "      <td>male</td>\n",
                            "      <td>grade 9</td>\n",
                            "      <td>22900</td>\n",
                            "    </tr>\n",
                            "    <tr>\n",
                            "      <th>61686</th>\n",
                            "      <td>28</td>\n",
                            "      <td>male</td>\n",
                            "      <td>grade 12</td>\n",
                            "      <td>21200</td>\n",
                            "    </tr>\n",
                            "    <tr>\n",
                            "      <th>38877</th>\n",
                            "      <td>63</td>\n",
                            "      <td>male</td>\n",
                            "      <td>2 years of college</td>\n",
                            "      <td>135000</td>\n",
                            "    </tr>\n",
                            "  </tbody>\n",
                            "</table>\n",
                            "</div>"
                        ],
                        "text/plain": [
                            "       age     sex                 educ   inctot\n",
                            "134826  18  female             grade 11        0\n",
                            "33293    3  female  n/a or no schooling  9999999\n",
                            "68495   33    male    1 year of college    15000\n",
                            "270717  36  female   4 years of college        0\n",
                            "14509   36    male    1 year of college    36000\n",
                            "40023   50    male   4 years of college   120200\n",
                            "67630   47  female   2 years of college        0\n",
                            "21225   50    male              grade 9    22900\n",
                            "61686   28    male             grade 12    21200\n",
                            "38877   63    male   2 years of college   135000"
                        ]
                    },
                    "execution_count": 3,
                    "metadata": {},
                    "output_type": "execute_result"
                }
            ],
            "source": [
                "acs = survey[[\"age\", \"sex\", \"educ\", \"inctot\"]]\n",
                "acs.sample(10)"
            ]
        },
        {
            "cell_type": "markdown",
            "metadata": {},
            "source": [
                "### Exercise 3\n",
                "\n",
                "As before, all the values of `9999999` have the potential to cause us real problems, so replace all the values of `inctot` that are `9999999` with `np.nan`. "
            ]
        },
        {
            "cell_type": "code",
            "execution_count": 4,
            "metadata": {},
            "outputs": [
                {
                    "data": {
                        "application/vnd.microsoft.datawrangler.viewer.v0+json": {
                            "columns": [
                                {
                                    "name": "index",
                                    "rawType": "int64",
                                    "type": "integer"
                                },
                                {
                                    "name": "age",
                                    "rawType": "category",
                                    "type": "unknown"
                                },
                                {
                                    "name": "sex",
                                    "rawType": "category",
                                    "type": "unknown"
                                },
                                {
                                    "name": "educ",
                                    "rawType": "category",
                                    "type": "unknown"
                                },
                                {
                                    "name": "inctot",
                                    "rawType": "float64",
                                    "type": "float"
                                }
                            ],
                            "ref": "cb1e9807-da66-4e3d-aa33-c0fcfea7b610",
                            "rows": [
                                [
                                    "255305",
                                    "13",
                                    "male",
                                    "grade 5, 6, 7, or 8",
                                    null
                                ],
                                [
                                    "15875",
                                    "60",
                                    "female",
                                    "2 years of college",
                                    "40000.0"
                                ],
                                [
                                    "266634",
                                    "15",
                                    "female",
                                    "grade 9",
                                    "0.0"
                                ],
                                [
                                    "264195",
                                    "25",
                                    "male",
                                    "4 years of college",
                                    "70000.0"
                                ],
                                [
                                    "252517",
                                    "55",
                                    "female",
                                    "2 years of college",
                                    "65000.0"
                                ],
                                [
                                    "76310",
                                    "45",
                                    "male",
                                    "5+ years of college",
                                    "116000.0"
                                ],
                                [
                                    "102865",
                                    "25",
                                    "male",
                                    "n/a or no schooling",
                                    "300.0"
                                ],
                                [
                                    "148768",
                                    "15",
                                    "male",
                                    "grade 5, 6, 7, or 8",
                                    "0.0"
                                ],
                                [
                                    "185655",
                                    "68",
                                    "female",
                                    "grade 9",
                                    "7200.0"
                                ],
                                [
                                    "13207",
                                    "8",
                                    "female",
                                    "nursery school to grade 4",
                                    null
                                ]
                            ],
                            "shape": {
                                "columns": 4,
                                "rows": 10
                            }
                        },
                        "text/html": [
                            "<div>\n",
                            "<style scoped>\n",
                            "    .dataframe tbody tr th:only-of-type {\n",
                            "        vertical-align: middle;\n",
                            "    }\n",
                            "\n",
                            "    .dataframe tbody tr th {\n",
                            "        vertical-align: top;\n",
                            "    }\n",
                            "\n",
                            "    .dataframe thead th {\n",
                            "        text-align: right;\n",
                            "    }\n",
                            "</style>\n",
                            "<table border=\"1\" class=\"dataframe\">\n",
                            "  <thead>\n",
                            "    <tr style=\"text-align: right;\">\n",
                            "      <th></th>\n",
                            "      <th>age</th>\n",
                            "      <th>sex</th>\n",
                            "      <th>educ</th>\n",
                            "      <th>inctot</th>\n",
                            "    </tr>\n",
                            "  </thead>\n",
                            "  <tbody>\n",
                            "    <tr>\n",
                            "      <th>255305</th>\n",
                            "      <td>13</td>\n",
                            "      <td>male</td>\n",
                            "      <td>grade 5, 6, 7, or 8</td>\n",
                            "      <td>NaN</td>\n",
                            "    </tr>\n",
                            "    <tr>\n",
                            "      <th>15875</th>\n",
                            "      <td>60</td>\n",
                            "      <td>female</td>\n",
                            "      <td>2 years of college</td>\n",
                            "      <td>40000.0</td>\n",
                            "    </tr>\n",
                            "    <tr>\n",
                            "      <th>266634</th>\n",
                            "      <td>15</td>\n",
                            "      <td>female</td>\n",
                            "      <td>grade 9</td>\n",
                            "      <td>0.0</td>\n",
                            "    </tr>\n",
                            "    <tr>\n",
                            "      <th>264195</th>\n",
                            "      <td>25</td>\n",
                            "      <td>male</td>\n",
                            "      <td>4 years of college</td>\n",
                            "      <td>70000.0</td>\n",
                            "    </tr>\n",
                            "    <tr>\n",
                            "      <th>252517</th>\n",
                            "      <td>55</td>\n",
                            "      <td>female</td>\n",
                            "      <td>2 years of college</td>\n",
                            "      <td>65000.0</td>\n",
                            "    </tr>\n",
                            "    <tr>\n",
                            "      <th>76310</th>\n",
                            "      <td>45</td>\n",
                            "      <td>male</td>\n",
                            "      <td>5+ years of college</td>\n",
                            "      <td>116000.0</td>\n",
                            "    </tr>\n",
                            "    <tr>\n",
                            "      <th>102865</th>\n",
                            "      <td>25</td>\n",
                            "      <td>male</td>\n",
                            "      <td>n/a or no schooling</td>\n",
                            "      <td>300.0</td>\n",
                            "    </tr>\n",
                            "    <tr>\n",
                            "      <th>148768</th>\n",
                            "      <td>15</td>\n",
                            "      <td>male</td>\n",
                            "      <td>grade 5, 6, 7, or 8</td>\n",
                            "      <td>0.0</td>\n",
                            "    </tr>\n",
                            "    <tr>\n",
                            "      <th>185655</th>\n",
                            "      <td>68</td>\n",
                            "      <td>female</td>\n",
                            "      <td>grade 9</td>\n",
                            "      <td>7200.0</td>\n",
                            "    </tr>\n",
                            "    <tr>\n",
                            "      <th>13207</th>\n",
                            "      <td>8</td>\n",
                            "      <td>female</td>\n",
                            "      <td>nursery school to grade 4</td>\n",
                            "      <td>NaN</td>\n",
                            "    </tr>\n",
                            "  </tbody>\n",
                            "</table>\n",
                            "</div>"
                        ],
                        "text/plain": [
                            "       age     sex                       educ    inctot\n",
                            "255305  13    male        grade 5, 6, 7, or 8       NaN\n",
                            "15875   60  female         2 years of college   40000.0\n",
                            "266634  15  female                    grade 9       0.0\n",
                            "264195  25    male         4 years of college   70000.0\n",
                            "252517  55  female         2 years of college   65000.0\n",
                            "76310   45    male        5+ years of college  116000.0\n",
                            "102865  25    male        n/a or no schooling     300.0\n",
                            "148768  15    male        grade 5, 6, 7, or 8       0.0\n",
                            "185655  68  female                    grade 9    7200.0\n",
                            "13207    8  female  nursery school to grade 4       NaN"
                        ]
                    },
                    "execution_count": 4,
                    "metadata": {},
                    "output_type": "execute_result"
                }
            ],
            "source": [
                "import numpy as np\n",
                "\n",
                "acs[\"inctot\"] = acs[\"inctot\"].replace(9_999_999, np.nan)\n",
                "acs.sample(10)"
            ]
        },
        {
            "cell_type": "markdown",
            "metadata": {},
            "source": [
                "### Exercise 4\n",
                "\n",
                "Attempt to calculate the average age of people in our data. What do you get? Why are you getting that error?\n",
                "\n",
                "You *should* get an error in trying to answer this question, but **PLEASE LEAVE THE CODE THAT GENERATES THIS ERROR COMMENTED OUT SO YOUR NOTEBOOK WILL RUN IN THE AUTOGRADER**. \n",
                "\n",
                "Then talk about the error in a markdown cell."
            ]
        },
        {
            "cell_type": "code",
            "execution_count": null,
            "metadata": {},
            "outputs": [
                {
                    "ename": "TypeError",
                    "evalue": "'Categorical' with dtype category does not support reduction 'mean'",
                    "output_type": "error",
                    "traceback": [
                        "\u001b[31m---------------------------------------------------------------------------\u001b[39m",
                        "\u001b[31mTypeError\u001b[39m                                 Traceback (most recent call last)",
                        "\u001b[36mCell\u001b[39m\u001b[36m \u001b[39m\u001b[32mIn[5]\u001b[39m\u001b[32m, line 1\u001b[39m\n\u001b[32m----> \u001b[39m\u001b[32m1\u001b[39m \u001b[43macs\u001b[49m\u001b[43m[\u001b[49m\u001b[33;43m'\u001b[39;49m\u001b[33;43mage\u001b[39;49m\u001b[33;43m'\u001b[39;49m\u001b[43m]\u001b[49m\u001b[43m.\u001b[49m\u001b[43mmean\u001b[49m\u001b[43m(\u001b[49m\u001b[43m)\u001b[49m\n",
                        "\u001b[36mFile \u001b[39m\u001b[32mc:\\Users\\LENOVO\\miniforge3\\Lib\\site-packages\\pandas\\core\\series.py:6560\u001b[39m, in \u001b[36mSeries.mean\u001b[39m\u001b[34m(self, axis, skipna, numeric_only, **kwargs)\u001b[39m\n\u001b[32m   6552\u001b[39m \u001b[38;5;129m@doc\u001b[39m(make_doc(\u001b[33m\"\u001b[39m\u001b[33mmean\u001b[39m\u001b[33m\"\u001b[39m, ndim=\u001b[32m1\u001b[39m))\n\u001b[32m   6553\u001b[39m \u001b[38;5;28;01mdef\u001b[39;00m\u001b[38;5;250m \u001b[39m\u001b[34mmean\u001b[39m(\n\u001b[32m   6554\u001b[39m     \u001b[38;5;28mself\u001b[39m,\n\u001b[32m   (...)\u001b[39m\u001b[32m   6558\u001b[39m     **kwargs,\n\u001b[32m   6559\u001b[39m ):\n\u001b[32m-> \u001b[39m\u001b[32m6560\u001b[39m     \u001b[38;5;28;01mreturn\u001b[39;00m \u001b[43mNDFrame\u001b[49m\u001b[43m.\u001b[49m\u001b[43mmean\u001b[49m\u001b[43m(\u001b[49m\u001b[38;5;28;43mself\u001b[39;49m\u001b[43m,\u001b[49m\u001b[43m \u001b[49m\u001b[43maxis\u001b[49m\u001b[43m,\u001b[49m\u001b[43m \u001b[49m\u001b[43mskipna\u001b[49m\u001b[43m,\u001b[49m\u001b[43m \u001b[49m\u001b[43mnumeric_only\u001b[49m\u001b[43m,\u001b[49m\u001b[43m \u001b[49m\u001b[43m*\u001b[49m\u001b[43m*\u001b[49m\u001b[43mkwargs\u001b[49m\u001b[43m)\u001b[49m\n",
                        "\u001b[36mFile \u001b[39m\u001b[32mc:\\Users\\LENOVO\\miniforge3\\Lib\\site-packages\\pandas\\core\\generic.py:12439\u001b[39m, in \u001b[36mNDFrame.mean\u001b[39m\u001b[34m(self, axis, skipna, numeric_only, **kwargs)\u001b[39m\n\u001b[32m  12432\u001b[39m \u001b[38;5;28;01mdef\u001b[39;00m\u001b[38;5;250m \u001b[39m\u001b[34mmean\u001b[39m(\n\u001b[32m  12433\u001b[39m     \u001b[38;5;28mself\u001b[39m,\n\u001b[32m  12434\u001b[39m     axis: Axis | \u001b[38;5;28;01mNone\u001b[39;00m = \u001b[32m0\u001b[39m,\n\u001b[32m   (...)\u001b[39m\u001b[32m  12437\u001b[39m     **kwargs,\n\u001b[32m  12438\u001b[39m ) -> Series | \u001b[38;5;28mfloat\u001b[39m:\n\u001b[32m> \u001b[39m\u001b[32m12439\u001b[39m     \u001b[38;5;28;01mreturn\u001b[39;00m \u001b[38;5;28;43mself\u001b[39;49m\u001b[43m.\u001b[49m\u001b[43m_stat_function\u001b[49m\u001b[43m(\u001b[49m\n\u001b[32m  12440\u001b[39m \u001b[43m        \u001b[49m\u001b[33;43m\"\u001b[39;49m\u001b[33;43mmean\u001b[39;49m\u001b[33;43m\"\u001b[39;49m\u001b[43m,\u001b[49m\u001b[43m \u001b[49m\u001b[43mnanops\u001b[49m\u001b[43m.\u001b[49m\u001b[43mnanmean\u001b[49m\u001b[43m,\u001b[49m\u001b[43m \u001b[49m\u001b[43maxis\u001b[49m\u001b[43m,\u001b[49m\u001b[43m \u001b[49m\u001b[43mskipna\u001b[49m\u001b[43m,\u001b[49m\u001b[43m \u001b[49m\u001b[43mnumeric_only\u001b[49m\u001b[43m,\u001b[49m\u001b[43m \u001b[49m\u001b[43m*\u001b[49m\u001b[43m*\u001b[49m\u001b[43mkwargs\u001b[49m\n\u001b[32m  12441\u001b[39m \u001b[43m    \u001b[49m\u001b[43m)\u001b[49m\n",
                        "\u001b[36mFile \u001b[39m\u001b[32mc:\\Users\\LENOVO\\miniforge3\\Lib\\site-packages\\pandas\\core\\generic.py:12396\u001b[39m, in \u001b[36mNDFrame._stat_function\u001b[39m\u001b[34m(self, name, func, axis, skipna, numeric_only, **kwargs)\u001b[39m\n\u001b[32m  12392\u001b[39m nv.validate_func(name, (), kwargs)\n\u001b[32m  12394\u001b[39m validate_bool_kwarg(skipna, \u001b[33m\"\u001b[39m\u001b[33mskipna\u001b[39m\u001b[33m\"\u001b[39m, none_allowed=\u001b[38;5;28;01mFalse\u001b[39;00m)\n\u001b[32m> \u001b[39m\u001b[32m12396\u001b[39m \u001b[38;5;28;01mreturn\u001b[39;00m \u001b[38;5;28;43mself\u001b[39;49m\u001b[43m.\u001b[49m\u001b[43m_reduce\u001b[49m\u001b[43m(\u001b[49m\n\u001b[32m  12397\u001b[39m \u001b[43m    \u001b[49m\u001b[43mfunc\u001b[49m\u001b[43m,\u001b[49m\u001b[43m \u001b[49m\u001b[43mname\u001b[49m\u001b[43m=\u001b[49m\u001b[43mname\u001b[49m\u001b[43m,\u001b[49m\u001b[43m \u001b[49m\u001b[43maxis\u001b[49m\u001b[43m=\u001b[49m\u001b[43maxis\u001b[49m\u001b[43m,\u001b[49m\u001b[43m \u001b[49m\u001b[43mskipna\u001b[49m\u001b[43m=\u001b[49m\u001b[43mskipna\u001b[49m\u001b[43m,\u001b[49m\u001b[43m \u001b[49m\u001b[43mnumeric_only\u001b[49m\u001b[43m=\u001b[49m\u001b[43mnumeric_only\u001b[49m\n\u001b[32m  12398\u001b[39m \u001b[43m\u001b[49m\u001b[43m)\u001b[49m\n",
                        "\u001b[36mFile \u001b[39m\u001b[32mc:\\Users\\LENOVO\\miniforge3\\Lib\\site-packages\\pandas\\core\\series.py:6454\u001b[39m, in \u001b[36mSeries._reduce\u001b[39m\u001b[34m(self, op, name, axis, skipna, numeric_only, filter_type, **kwds)\u001b[39m\n\u001b[32m   6450\u001b[39m     \u001b[38;5;28mself\u001b[39m._get_axis_number(axis)\n\u001b[32m   6452\u001b[39m \u001b[38;5;28;01mif\u001b[39;00m \u001b[38;5;28misinstance\u001b[39m(delegate, ExtensionArray):\n\u001b[32m   6453\u001b[39m     \u001b[38;5;66;03m# dispatch to ExtensionArray interface\u001b[39;00m\n\u001b[32m-> \u001b[39m\u001b[32m6454\u001b[39m     \u001b[38;5;28;01mreturn\u001b[39;00m \u001b[43mdelegate\u001b[49m\u001b[43m.\u001b[49m\u001b[43m_reduce\u001b[49m\u001b[43m(\u001b[49m\u001b[43mname\u001b[49m\u001b[43m,\u001b[49m\u001b[43m \u001b[49m\u001b[43mskipna\u001b[49m\u001b[43m=\u001b[49m\u001b[43mskipna\u001b[49m\u001b[43m,\u001b[49m\u001b[43m \u001b[49m\u001b[43m*\u001b[49m\u001b[43m*\u001b[49m\u001b[43mkwds\u001b[49m\u001b[43m)\u001b[49m\n\u001b[32m   6456\u001b[39m \u001b[38;5;28;01melse\u001b[39;00m:\n\u001b[32m   6457\u001b[39m     \u001b[38;5;66;03m# dispatch to numpy arrays\u001b[39;00m\n\u001b[32m   6458\u001b[39m     \u001b[38;5;28;01mif\u001b[39;00m numeric_only \u001b[38;5;129;01mand\u001b[39;00m \u001b[38;5;28mself\u001b[39m.dtype.kind \u001b[38;5;129;01mnot\u001b[39;00m \u001b[38;5;129;01min\u001b[39;00m \u001b[33m\"\u001b[39m\u001b[33miufcb\u001b[39m\u001b[33m\"\u001b[39m:\n\u001b[32m   6459\u001b[39m         \u001b[38;5;66;03m# i.e. not is_numeric_dtype(self.dtype)\u001b[39;00m\n",
                        "\u001b[36mFile \u001b[39m\u001b[32mc:\\Users\\LENOVO\\miniforge3\\Lib\\site-packages\\pandas\\core\\arrays\\categorical.py:2391\u001b[39m, in \u001b[36mCategorical._reduce\u001b[39m\u001b[34m(self, name, skipna, keepdims, **kwargs)\u001b[39m\n\u001b[32m   2388\u001b[39m \u001b[38;5;28;01mdef\u001b[39;00m\u001b[38;5;250m \u001b[39m\u001b[34m_reduce\u001b[39m(\n\u001b[32m   2389\u001b[39m     \u001b[38;5;28mself\u001b[39m, name: \u001b[38;5;28mstr\u001b[39m, *, skipna: \u001b[38;5;28mbool\u001b[39m = \u001b[38;5;28;01mTrue\u001b[39;00m, keepdims: \u001b[38;5;28mbool\u001b[39m = \u001b[38;5;28;01mFalse\u001b[39;00m, **kwargs\n\u001b[32m   2390\u001b[39m ):\n\u001b[32m-> \u001b[39m\u001b[32m2391\u001b[39m     result = \u001b[38;5;28;43msuper\u001b[39;49m\u001b[43m(\u001b[49m\u001b[43m)\u001b[49m\u001b[43m.\u001b[49m\u001b[43m_reduce\u001b[49m\u001b[43m(\u001b[49m\u001b[43mname\u001b[49m\u001b[43m,\u001b[49m\u001b[43m \u001b[49m\u001b[43mskipna\u001b[49m\u001b[43m=\u001b[49m\u001b[43mskipna\u001b[49m\u001b[43m,\u001b[49m\u001b[43m \u001b[49m\u001b[43mkeepdims\u001b[49m\u001b[43m=\u001b[49m\u001b[43mkeepdims\u001b[49m\u001b[43m,\u001b[49m\u001b[43m \u001b[49m\u001b[43m*\u001b[49m\u001b[43m*\u001b[49m\u001b[43mkwargs\u001b[49m\u001b[43m)\u001b[49m\n\u001b[32m   2392\u001b[39m     \u001b[38;5;28;01mif\u001b[39;00m name \u001b[38;5;129;01min\u001b[39;00m [\u001b[33m\"\u001b[39m\u001b[33margmax\u001b[39m\u001b[33m\"\u001b[39m, \u001b[33m\"\u001b[39m\u001b[33margmin\u001b[39m\u001b[33m\"\u001b[39m]:\n\u001b[32m   2393\u001b[39m         \u001b[38;5;66;03m# don't wrap in Categorical!\u001b[39;00m\n\u001b[32m   2394\u001b[39m         \u001b[38;5;28;01mreturn\u001b[39;00m result\n",
                        "\u001b[36mFile \u001b[39m\u001b[32mc:\\Users\\LENOVO\\miniforge3\\Lib\\site-packages\\pandas\\core\\arrays\\base.py:1954\u001b[39m, in \u001b[36mExtensionArray._reduce\u001b[39m\u001b[34m(self, name, skipna, keepdims, **kwargs)\u001b[39m\n\u001b[32m   1952\u001b[39m meth = \u001b[38;5;28mgetattr\u001b[39m(\u001b[38;5;28mself\u001b[39m, name, \u001b[38;5;28;01mNone\u001b[39;00m)\n\u001b[32m   1953\u001b[39m \u001b[38;5;28;01mif\u001b[39;00m meth \u001b[38;5;129;01mis\u001b[39;00m \u001b[38;5;28;01mNone\u001b[39;00m:\n\u001b[32m-> \u001b[39m\u001b[32m1954\u001b[39m     \u001b[38;5;28;01mraise\u001b[39;00m \u001b[38;5;167;01mTypeError\u001b[39;00m(\n\u001b[32m   1955\u001b[39m         \u001b[33mf\u001b[39m\u001b[33m\"\u001b[39m\u001b[33m'\u001b[39m\u001b[38;5;132;01m{\u001b[39;00m\u001b[38;5;28mtype\u001b[39m(\u001b[38;5;28mself\u001b[39m).\u001b[34m__name__\u001b[39m\u001b[38;5;132;01m}\u001b[39;00m\u001b[33m'\u001b[39m\u001b[33m with dtype \u001b[39m\u001b[38;5;132;01m{\u001b[39;00m\u001b[38;5;28mself\u001b[39m.dtype\u001b[38;5;132;01m}\u001b[39;00m\u001b[33m \u001b[39m\u001b[33m\"\u001b[39m\n\u001b[32m   1956\u001b[39m         \u001b[33mf\u001b[39m\u001b[33m\"\u001b[39m\u001b[33mdoes not support reduction \u001b[39m\u001b[33m'\u001b[39m\u001b[38;5;132;01m{\u001b[39;00mname\u001b[38;5;132;01m}\u001b[39;00m\u001b[33m'\u001b[39m\u001b[33m\"\u001b[39m\n\u001b[32m   1957\u001b[39m     )\n\u001b[32m   1958\u001b[39m result = meth(skipna=skipna, **kwargs)\n\u001b[32m   1959\u001b[39m \u001b[38;5;28;01mif\u001b[39;00m keepdims:\n",
                        "\u001b[31mTypeError\u001b[39m: 'Categorical' with dtype category does not support reduction 'mean'"
                    ]
                }
            ],
            "source": [
                "# acs['age'].mean()"
            ]
        },
        {
            "cell_type": "markdown",
            "metadata": {},
            "source": [
                "The error we see is: \n",
                "TypeError: 'Categorical' with dtype category does not support reduction 'mean'.\n",
                "This means that the data type is categorical, which is not the expected float data type we need for the age variable for calculation."
            ]
        },
        {
            "cell_type": "markdown",
            "metadata": {},
            "source": [
                "### Exercise 5\n",
                "\n",
                "We want to be able to calculate things using age, so we need it to be a numeric type. Check the current type of `age`, and look at all the values of `age` to figure out why it's categorical and not numeric. You should find two problematic categories. Store the values of these categories in `\"ex5_age_young\"` and `\"ex5_age_old\"` (once you find them, it should be clear which is which)."
            ]
        },
        {
            "cell_type": "code",
            "execution_count": 6,
            "metadata": {},
            "outputs": [
                {
                    "name": "stdout",
                    "output_type": "stream",
                    "text": [
                        "category\n"
                    ]
                },
                {
                    "data": {
                        "application/vnd.microsoft.datawrangler.viewer.v0+json": {
                            "columns": [
                                {
                                    "name": "age",
                                    "rawType": "category",
                                    "type": "unknown"
                                },
                                {
                                    "name": "count",
                                    "rawType": "int64",
                                    "type": "integer"
                                }
                            ],
                            "ref": "e4720ceb-4d8a-4289-9ece-4b801f4f25f9",
                            "rows": [
                                [
                                    "60",
                                    "4950"
                                ],
                                [
                                    "54",
                                    "4821"
                                ],
                                [
                                    "56",
                                    "4776"
                                ],
                                [
                                    "59",
                                    "4776"
                                ],
                                [
                                    "58",
                                    "4734"
                                ],
                                [
                                    "57",
                                    "4720"
                                ],
                                [
                                    "55",
                                    "4693"
                                ],
                                [
                                    "61",
                                    "4644"
                                ],
                                [
                                    "62",
                                    "4614"
                                ],
                                [
                                    "53",
                                    "4600"
                                ],
                                [
                                    "18",
                                    "4496"
                                ],
                                [
                                    "63",
                                    "4488"
                                ],
                                [
                                    "52",
                                    "4418"
                                ],
                                [
                                    "65",
                                    "4362"
                                ],
                                [
                                    "19",
                                    "4342"
                                ],
                                [
                                    "64",
                                    "4287"
                                ],
                                [
                                    "50",
                                    "4272"
                                ],
                                [
                                    "47",
                                    "4256"
                                ],
                                [
                                    "16",
                                    "4106"
                                ],
                                [
                                    "66",
                                    "4106"
                                ],
                                [
                                    "46",
                                    "4064"
                                ],
                                [
                                    "67",
                                    "4055"
                                ],
                                [
                                    "51",
                                    "4021"
                                ],
                                [
                                    "17",
                                    "4021"
                                ],
                                [
                                    "10",
                                    "3997"
                                ],
                                [
                                    "20",
                                    "3992"
                                ],
                                [
                                    "9",
                                    "3977"
                                ],
                                [
                                    "48",
                                    "3956"
                                ],
                                [
                                    "70",
                                    "3953"
                                ],
                                [
                                    "68",
                                    "3951"
                                ],
                                [
                                    "34",
                                    "3942"
                                ],
                                [
                                    "15",
                                    "3942"
                                ],
                                [
                                    "49",
                                    "3940"
                                ],
                                [
                                    "45",
                                    "3939"
                                ],
                                [
                                    "30",
                                    "3917"
                                ],
                                [
                                    "40",
                                    "3884"
                                ],
                                [
                                    "27",
                                    "3884"
                                ],
                                [
                                    "32",
                                    "3883"
                                ],
                                [
                                    "31",
                                    "3880"
                                ],
                                [
                                    "69",
                                    "3877"
                                ],
                                [
                                    "37",
                                    "3870"
                                ],
                                [
                                    "35",
                                    "3867"
                                ],
                                [
                                    "14",
                                    "3847"
                                ],
                                [
                                    "12",
                                    "3845"
                                ],
                                [
                                    "36",
                                    "3834"
                                ],
                                [
                                    "29",
                                    "3810"
                                ],
                                [
                                    "28",
                                    "3808"
                                ],
                                [
                                    "13",
                                    "3800"
                                ],
                                [
                                    "11",
                                    "3791"
                                ],
                                [
                                    "39",
                                    "3783"
                                ]
                            ],
                            "shape": {
                                "columns": 1,
                                "rows": 97
                            }
                        },
                        "text/plain": [
                            "age\n",
                            "60    4950\n",
                            "54    4821\n",
                            "56    4776\n",
                            "59    4776\n",
                            "58    4734\n",
                            "      ... \n",
                            "93     476\n",
                            "95     471\n",
                            "92     355\n",
                            "91     227\n",
                            "96      10\n",
                            "Name: count, Length: 97, dtype: int64"
                        ]
                    },
                    "execution_count": 6,
                    "metadata": {},
                    "output_type": "execute_result"
                }
            ],
            "source": [
                "results = {}\n",
                "print(acs[\"age\"].dtype)\n",
                "ex5_age_young = \"less than 1 year old\"\n",
                "ex5_age_old = \"90 (90+ in 1980 and 1990)\"\n",
                "\n",
                "results[\"ex5_age_young\"] = ex5_age_young\n",
                "results[\"ex5_age_old\"] = ex5_age_old\n",
                "\n",
                "acs[\"age\"].value_counts()"
            ]
        },
        {
            "cell_type": "markdown",
            "metadata": {},
            "source": [
                "### Exercise 6\n",
                "\n",
                "In order to convert `age` into a numeric variable, we need to replace those problematic entries with values that `pandas` can later convert into numbers. Pick appropriate substitutions for the existing values and replace the current values. \n",
                "\n",
                "**Hint 1:** Categorical variables act like strings, so you might want to use string methods! \n",
                "\n",
                "**Hint 2:** Remember that characters like parentheses, pluses, asterisks, etc. are special in Python strings, and you have to escape them if you want them to be interpreted literally!\n",
                "\n",
                "**Hint 3:** Because the US Census has been conducted regularly for hundreds of years but exactly how the census has been conducted have occasionally changed, variables are sometimes coded in a way that might be interpreted in different ways for different census years. For example, hypothetically, one might write `90 (90+ in 1980 and 1990)` if the Censuses conducted in 1980 and 1990 used to top-code age at 90 (any values *over* 90 were just coded as 90), but more recent Censuses no longer top-coded age and recorded ages over 90 as the respondents actual age."
            ]
        },
        {
            "cell_type": "code",
            "execution_count": 7,
            "metadata": {},
            "outputs": [],
            "source": [
                "acs[\"age\"] = acs[\"age\"].cat.rename_categories({ex5_age_young: \"0\", ex5_age_old: \"90\"})"
            ]
        },
        {
            "cell_type": "markdown",
            "metadata": {},
            "source": [
                "### Exercise 7\n",
                "\n",
                "Now convert age from a categorical to numeric. Calculate the average age amoung this group, and store it in `\"ex7_avg_age\"`."
            ]
        },
        {
            "cell_type": "code",
            "execution_count": 8,
            "metadata": {},
            "outputs": [
                {
                    "name": "stdout",
                    "output_type": "stream",
                    "text": [
                        "The average age of the dataset is 41\n"
                    ]
                }
            ],
            "source": [
                "acs[\"age\"] = pd.to_numeric(acs[\"age\"])\n",
                "\n",
                "ex7_avg_age = acs[\"age\"].mean()\n",
                "\n",
                "results[\"ex7_avg_age\"] = ex7_avg_age\n",
                "\n",
                "print(f\"The average age of the dataset is {ex7_avg_age:.0f}\")"
            ]
        },
        {
            "cell_type": "markdown",
            "metadata": {},
            "source": [
                "### Exercise 8\n",
                "\n",
                "Let's now filter out anyone in our data whose age is less than 18. Note that before made `age` a numeric variable, we couldn't do this! Again, calculate the average age and this time store it in `\"ex8_avg_age\"`. \n",
                "\n",
                "Use this sample of people 18 and over for all subsequent exercises."
            ]
        },
        {
            "cell_type": "code",
            "execution_count": 9,
            "metadata": {},
            "outputs": [
                {
                    "name": "stdout",
                    "output_type": "stream",
                    "text": [
                        "The average age of people over 18 is 50\n"
                    ]
                }
            ],
            "source": [
                "over18 = acs[acs[\"age\"] >= 18]\n",
                "\n",
                "ex8_avg_age = over18[\"age\"].mean()\n",
                "\n",
                "results[\"ex8_avg_age\"] = ex8_avg_age\n",
                "\n",
                "print(f\"The average age of people over 18 is {ex8_avg_age:.0f}\")"
            ]
        },
        {
            "cell_type": "markdown",
            "metadata": {},
            "source": [
                "### Exercise 9\n",
                "\n",
                "Create an indicator variable for whether each person has *at least* a college Bachelor's degree called `college_degree`. Use this variable to calculate the number of people in the dataset with a college degree. You may assume that to get a college degree you need to complete at least 4 years of college. Save the result as `\"ex9_num_college\"`."
            ]
        },
        {
            "cell_type": "code",
            "execution_count": 10,
            "metadata": {},
            "outputs": [
                {
                    "name": "stdout",
                    "output_type": "stream",
                    "text": [
                        "The number of people in the dataset with a college degree is 77,013\n"
                    ]
                }
            ],
            "source": [
                "over18[\"educ\"].value_counts()\n",
                "\n",
                "over18[\"college_degree\"] = (over18[\"educ\"] == \"4 years of college\") | (over18[\"educ\"] == \"5+ years of college\")\n",
                "\n",
                "# no of people with college degree\n",
                "\n",
                "college_grads = over18.loc[over18[\"college_degree\"] == True]\n",
                "ex9_num_college = len(college_grads)\n",
                "results[\"ex9_num_college\"] = ex9_num_college\n",
                "\n",
                "print(f\"The number of people in the dataset with a college degree is {ex9_num_college:,.0f}\")"
            ]
        },
        {
            "cell_type": "markdown",
            "metadata": {},
            "source": [
                "### Exercise 10\n",
                "\n",
                "Let's examine how the educational gender gap. Use `pd.crosstab` to create a cross-tabulation of `sex` and `college_degree`. `pd.crosstab` will give you the number of people who have each combination of `sex` and `college_degree` (so in this case, it will give us a 2x2 table with Male and Female as rows, and `college_degree` True and False as columns, or vice versa. "
            ]
        },
        {
            "cell_type": "code",
            "execution_count": 11,
            "metadata": {},
            "outputs": [
                {
                    "data": {
                        "application/vnd.microsoft.datawrangler.viewer.v0+json": {
                            "columns": [
                                {
                                    "name": "sex",
                                    "rawType": "category",
                                    "type": "unknown"
                                },
                                {
                                    "name": "False",
                                    "rawType": "int64",
                                    "type": "integer"
                                },
                                {
                                    "name": "True",
                                    "rawType": "int64",
                                    "type": "integer"
                                }
                            ],
                            "ref": "451dda26-0570-495a-88f2-bc66482f11c0",
                            "rows": [
                                [
                                    "male",
                                    "85821",
                                    "36181"
                                ],
                                [
                                    "female",
                                    "90200",
                                    "40832"
                                ]
                            ],
                            "shape": {
                                "columns": 2,
                                "rows": 2
                            }
                        },
                        "text/html": [
                            "<div>\n",
                            "<style scoped>\n",
                            "    .dataframe tbody tr th:only-of-type {\n",
                            "        vertical-align: middle;\n",
                            "    }\n",
                            "\n",
                            "    .dataframe tbody tr th {\n",
                            "        vertical-align: top;\n",
                            "    }\n",
                            "\n",
                            "    .dataframe thead th {\n",
                            "        text-align: right;\n",
                            "    }\n",
                            "</style>\n",
                            "<table border=\"1\" class=\"dataframe\">\n",
                            "  <thead>\n",
                            "    <tr style=\"text-align: right;\">\n",
                            "      <th>college_degree</th>\n",
                            "      <th>False</th>\n",
                            "      <th>True</th>\n",
                            "    </tr>\n",
                            "    <tr>\n",
                            "      <th>sex</th>\n",
                            "      <th></th>\n",
                            "      <th></th>\n",
                            "    </tr>\n",
                            "  </thead>\n",
                            "  <tbody>\n",
                            "    <tr>\n",
                            "      <th>male</th>\n",
                            "      <td>85821</td>\n",
                            "      <td>36181</td>\n",
                            "    </tr>\n",
                            "    <tr>\n",
                            "      <th>female</th>\n",
                            "      <td>90200</td>\n",
                            "      <td>40832</td>\n",
                            "    </tr>\n",
                            "  </tbody>\n",
                            "</table>\n",
                            "</div>"
                        ],
                        "text/plain": [
                            "college_degree  False  True \n",
                            "sex                         \n",
                            "male            85821  36181\n",
                            "female          90200  40832"
                        ]
                    },
                    "execution_count": 11,
                    "metadata": {},
                    "output_type": "execute_result"
                }
            ],
            "source": [
                "pd.crosstab(over18['sex'], over18[\"college_degree\"])"
            ]
        },
        {
            "cell_type": "markdown",
            "metadata": {},
            "source": [
                "### Exercise 11\n",
                "\n",
                "Counts are kind of hard to interpret. `pd.crosstab` can also normalize values to give percentages. Look at the `pd.crosstab` help file to figure out how to normalize the values in the table. Normalize them so that you get the share of men with and without college degree, and the share of women with and without college degrees.\n",
                "\n",
                "Store the share (between 0 and 1) of men with college degrees in `\"ex11_share_male_w_degrees\"`, and the share of women with degrees in `\"ex11_share_female_w_degrees\"`."
            ]
        },
        {
            "cell_type": "code",
            "execution_count": 12,
            "metadata": {},
            "outputs": [
                {
                    "name": "stdout",
                    "output_type": "stream",
                    "text": [
                        "college_degree     False     True \n",
                        "sex                               \n",
                        "male            0.703439  0.296561\n",
                        "female          0.688381  0.311619\n",
                        "The share of men with college degrees is 0.297\n",
                        "The share of women with college degrees is 0.312\n"
                    ]
                }
            ],
            "source": [
                "cross = pd.crosstab(over18[\"sex\"], over18[\"college_degree\"], normalize=\"index\")\n",
                "print(cross)\n",
                "ex11_share_male_w_degrees = cross.loc[\"male\", True]\n",
                "ex11_share_female_w_degrees = cross.loc[\"female\", True]\n",
                "\n",
                "results[\"ex11_share_male_w_degrees\"] = ex11_share_male_w_degrees\n",
                "results[\"ex11_share_female_w_degrees\"] = ex11_share_female_w_degrees\n",
                "print(f\"The share of men with college degrees is {ex11_share_male_w_degrees:.3f}\")\n",
                "print(f\"The share of women with college degrees is {ex11_share_female_w_degrees:.3f}\")"
            ]
        },
        {
            "cell_type": "markdown",
            "metadata": {},
            "source": [
                "### Exercise 12\n",
                "\n",
                "Now, let's recreate that table for people who are 40 and over and people under 40. Over time, what does this suggest about the absolute difference in the share of men and women earning college degrees? Has it gotten larger, stayed the same, or gotten smaller? Store your answer (either `\"the absolute difference has increased\"` or `\"the absolute difference has decreased\"`) in `\"ex12_comparing\"`."
            ]
        },
        {
            "cell_type": "code",
            "execution_count": 13,
            "metadata": {},
            "outputs": [
                {
                    "name": "stdout",
                    "output_type": "stream",
                    "text": [
                        "college_degree     False     True \n",
                        "sex                               \n",
                        "male            0.743143  0.256857\n",
                        "female          0.665710  0.334290\n",
                        "college_degree     False     True \n",
                        "sex                               \n",
                        "male            0.682123  0.317877\n",
                        "female          0.699144  0.300856\n",
                        "0.07743230514952698\n",
                        "0.017020152658337562\n",
                        "the absolute difference has increased\n"
                    ]
                }
            ],
            "source": [
                "over_40 = over18[over18[\"age\"] >= 40]\n",
                "under_40 = over18[over18[\"age\"] < 40]\n",
                "\n",
                "cross_under40 = pd.crosstab(\n",
                "    under_40[\"sex\"], under_40[\"college_degree\"], normalize=\"index\"\n",
                ")\n",
                "print(cross_under40)\n",
                "cross_over40 = pd.crosstab(over_40[\"sex\"], over_40[\"college_degree\"], normalize=\"index\")\n",
                "print(cross_over40)\n",
                "\n",
                "diff_over40 = abs(cross_over40.loc[\"male\", True] - cross_over40.loc[\"female\", True])\n",
                "diff_under40 = abs(cross_under40.loc[\"male\", True] - cross_under40.loc[\"female\", True])\n",
                "\n",
                "print(diff_under40)\n",
                "print(diff_over40)\n",
                "\n",
                "if diff_under40 > diff_over40:\n",
                "    ex12_comparing = \"the absolute difference has increased\"\n",
                "else:\n",
                "    ex12_comparing = \"the absolute difference has decreased\"\n",
                "\n",
                "print(ex12_comparing)\n",
                "\n",
                "results[\"ex12_comparing\"] = ex12_comparing"
            ]
        },
        {
            "cell_type": "markdown",
            "metadata": {},
            "source": [
                "### Exercise 13\n",
                "\n",
                "In words, what is causing the change noted in Exercise 12 (i.e., looking at the tables above, tell me a story about Men and Women's College attainment)."
            ]
        },
        {
            "cell_type": "markdown",
            "metadata": {},
            "source": [
                "As can be seen from the difference noted above, the absolute difference in college attainment levels have increased. The absolute difference in younger cohort was 7.7% in favor of women. Where as in older cohort (over 40), this difference was 1.7% points, slightly favoring men. The levels for women have seen significant jump and speaks to the shift in educational patterns where women today are more likely to graduate college than their male counterparts."
            ]
        },
        {
            "cell_type": "markdown",
            "metadata": {},
            "source": [
                "## Want More Practice?\n",
                "\n",
                "Calculate the educational racial gap in the United States for White Americans, Black Americans, Hispanic Americans, and other groups. \n",
                "\n",
                "Note that to do these calculations, you'll have to deal with the fact that unlike most Americans, the American Census Bureau treats \"Hispanic\" not as a racial category, but a linguistic one. As a result, the racial category \"White\" in `race` actually includes most Hispanic Americans. For this analysis, we wish to work with the mutually exclusive categories of \"White, non-Hispanic\", \"White, Hispanic\", \"Black (Hispanic or non-Hispanic)\", and a category for everyone else. "
            ]
        },
        {
            "cell_type": "code",
            "execution_count": null,
            "metadata": {},
            "outputs": [
                {
                    "name": "stdout",
                    "output_type": "stream",
                    "text": [
                        "The share of white non hispanic with college degrees is 0.335 where as the share of black non hispanic with college degrees is 0.192.\n",
                        "The share of white hispanics with college degrees is 0.173 while the share of black hispanics with college degree is 0.173.\n",
                        "The share of asian hispanics with college degrees is 0.226 while the share of asian non hispanics with college degrees is 0.492\n"
                    ]
                }
            ],
            "source": [
                "# Educational attainment levels between white americans, black americans, hispanic americans, asian americans, and native americans\n",
                "\n",
                "dfnew = survey[[\"age\", \"race\", \"hispan\",\"sex\", \"educ\", \"inctot\"]]\n",
                "\n",
                "dfnew[\"inctot\"] = dfnew[\"inctot\"].replace(9_999_999, np.nan)\n",
                "\n",
                "dfnew[\"age\"] = dfnew[\"age\"].cat.rename_categories({ex5_age_young: \"0\", ex5_age_old: \"90\"})\n",
                "\n",
                "dfnew[\"age\"] = pd.to_numeric(dfnew[\"age\"])\n",
                "\n",
                "dfnew = dfnew[dfnew[\"age\"] >= 18]\n",
                "\n",
                "dfnew[\"college_degree\"] = (dfnew[\"educ\"] == \"4 years of college\") | (dfnew[\"educ\"] == \"5+ years of college\")\n",
                "\n",
                "# White Non Hispanic Educational Attainment Levels\n",
                "white_non_hispanic = dfnew[(dfnew[\"race\"] == \"white\") & (dfnew[\"hispan\"] == \"not hispanic\")]\n",
                "\n",
                "white_non_hispanic_cross = pd.crosstab(white_non_hispanic['race'], white_non_hispanic[\"college_degree\"], normalize=\"index\")\n",
                "\n",
                "white_non_hispanic_cross\n",
                "\n",
                "# White Hispanic Educational Attainment Levels\n",
                "white_hispanic = dfnew[(dfnew[\"race\"] == \"white\") & (dfnew[\"hispan\"] != \"not hispanic\")]\n",
                "\n",
                "white_hispanic_cross = pd.crosstab(white_hispanic['race'], white_hispanic[\"college_degree\"], normalize=\"index\")\n",
                "\n",
                "white_hispanic_cross\n",
                "\n",
                "# Black Non Hispanic Educational Attainment Levels\n",
                "\n",
                "black_non_hispanic = dfnew[(dfnew[\"race\"] == \"black/african american/negro\") & (dfnew[\"hispan\"] == \"not hispanic\")]\n",
                "\n",
                "black_non_hispanic_cross = pd.crosstab(black_non_hispanic['race'], black_non_hispanic[\"college_degree\"], normalize=\"index\")\n",
                "\n",
                "black_non_hispanic_cross\n",
                "\n",
                "\n",
                "# Black Hispanic Educational Attainment Levels\n",
                "\n",
                "black_hispanic = dfnew[(dfnew[\"race\"] == \"black/african american/negro\") & (dfnew[\"hispan\"] != \"not hispanic\")]\n",
                "\n",
                "black_hispanic_cross = pd.crosstab(black_hispanic['race'], black_hispanic[\"college_degree\"], normalize=\"index\")\n",
                "\n",
                "black_hispanic_cross\n",
                "\n",
                "\n",
                "# Asian Non Hispanic Educational Attainment Levels\n",
                "\n",
                "asian_non_hispanic = dfnew[(dfnew[\"race\"] == \"other asian or pacific islander\") & (dfnew[\"hispan\"] == \"not hispanic\")]\n",
                "\n",
                "asian_non_hispanic_cross = pd.crosstab(asian_non_hispanic['race'], asian_non_hispanic[\"college_degree\"], normalize=\"index\")\n",
                "\n",
                "asian_non_hispanic_cross\n",
                "\n",
                "\n",
                "# Asian Hispanic Educational Attainment Levels\n",
                "\n",
                "asian_hispanic = dfnew[(dfnew['race'] == \"other asian or pacific islander\") & (dfnew[\"hispan\"] != \"not hispanic\")]\n",
                "\n",
                "asian_hispanic_cross = pd.crosstab(asian_hispanic['race'], asian_hispanic[\"college_degree\"], normalize=\"index\")\n",
                "\n",
                "asian_hispanic_cross\n",
                "\n",
                "\n",
                "print(\n",
                "    f\"The share of white non hispanic with college degrees is {white_non_hispanic_cross.loc['white', True]:.3f} \"\n",
                "    f\"where as the share of black non hispanic with college degrees is {black_non_hispanic_cross.loc['black/african american/negro', True]:.3f}.\\n\"\n",
                "    f\"The share of white hispanics with college degrees is {white_hispanic_cross.loc['white', True]:.3f} \"\n",
                "    f\"while the share of black hispanics with college degree is {black_hispanic_cross.loc['black/african american/negro', True]:.3f}.\\n\"\n",
                "    f\"The share of asian hispanics with college degrees is {asian_hispanic_cross.loc['other asian or pacific islander', True]:.3f} \"\n",
                "    f\"while the share of asian non hispanics with college degrees is {asian_non_hispanic_cross.loc['other asian or pacific islander', True]:.3f}\"\n",
                ")\n",
                "\n",
                "\n",
                "\n"
            ]
        }
    ],
    "metadata": {
        "kernelspec": {
            "display_name": "base",
            "language": "python",
            "name": "python3"
        },
        "language_info": {
            "codemirror_mode": {
                "name": "ipython",
                "version": 3
            },
            "file_extension": ".py",
            "mimetype": "text/x-python",
            "name": "python",
            "nbconvert_exporter": "python",
            "pygments_lexer": "ipython3",
            "version": "3.12.11"
        }
    },
    "nbformat": 4,
    "nbformat_minor": 4
}
