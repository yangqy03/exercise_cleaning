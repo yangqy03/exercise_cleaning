{
    "cells": [
        {
            "cell_type": "markdown",
            "metadata": {},
            "source": [
                "# Cleaning Data Exercises\n",
                "\n",
                "In this exercise, we'll be returning to the American Community Survey data we used previously to measuring racial income inequality in the United States. In today's exercise, we'll be using it to measure the returns to education and how those returns vary by race and gender.\n",
                "\n"
            ]
        },
        {
            "cell_type": "markdown",
            "metadata": {},
            "source": [
                "\n",
                "## Gradescope Autograding\n",
                "\n",
                "Please follow [all standard guidance](https://www.practicaldatascience.org/html/autograder_guidelines.html) for submitting this assignment to the Gradescope autograder, including storing your solutions in a dictionary called `results` and ensuring your notebook runs from the start to completion without any errors.\n",
                "\n",
                "For this assignment, please name your file `exercise_cleaning.ipynb` before uploading.\n",
                "\n",
                "You can check that you have answers for all questions in your `results` dictionary with this code:\n",
                "\n",
                "```python\n",
                "assert set(results.keys()) == {\n",
                "    \"ex5_age_young\",\n",
                "    \"ex5_age_old\",\n",
                "    \"ex7_avg_age\",\n",
                "    \"ex8_avg_age\",\n",
                "    \"ex9_num_college\",\n",
                "    \"ex11_share_male_w_degrees\",\n",
                "    \"ex11_share_female_w_degrees\",\n",
                "    \"ex12_comparing\",\n",
                "}\n",
                "```\n",
                "\n",
                "\n",
                "### Submission Limits\n",
                "\n",
                "Please remember that you are **only allowed three submissions to the autograder.** Your last submission (if you submit 3 or fewer times), or your third submission (if you submit more than 3 times) will determine your grade Submissions that error out will **not** count against this total."
            ]
        },
        {
            "cell_type": "markdown",
            "metadata": {},
            "source": [
                "## Exercises\n",
                "\n",
                "### Exercise 1\n",
                "\n",
                "For these cleaning exercises, we'll return to the ACS data we've used before one last time. We'll be working with `US_ACS_2017_10pct_sample.dta`. Import the data (please use url for the autograder)."
            ]
        },
        {
            "cell_type": "code",
            "execution_count": 1,
            "metadata": {},
            "outputs": [],
            "source": [
                "import pandas as pd\n",
                "\n",
                "pd.set_option(\"mode.copy_on_write\", True)\n",
                "\n",
                "survey = pd.read_stata(\n",
                "    \"https://github.com/nickeubank/MIDS_Data/raw/refs/heads/master/US_AmericanCommunitySurvey/US_ACS_2017_10pct_sample.dta\"\n",
                ")"
            ]
        },
        {
            "cell_type": "markdown",
            "metadata": {},
            "source": [
                "### Exercise 2\n",
                "\n",
                "For our exercises today, we'll focus on `age`, `sex`, `educ` (education), and `inctot` (total income). Subset your data to those variables, and quickly look at a sample of 10 rows."
            ]
        },
        {
            "cell_type": "code",
            "execution_count": null,
            "metadata": {},
            "outputs": [
                {
                    "data": {
                        "application/vnd.microsoft.datawrangler.viewer.v0+json": {
                            "columns": [
                                {
                                    "name": "index",
                                    "rawType": "int64",
                                    "type": "integer"
                                },
                                {
                                    "name": "age",
                                    "rawType": "category",
                                    "type": "unknown"
                                },
                                {
                                    "name": "sex",
                                    "rawType": "category",
                                    "type": "unknown"
                                },
                                {
                                    "name": "educ",
                                    "rawType": "category",
                                    "type": "unknown"
                                },
                                {
                                    "name": "inctot",
                                    "rawType": "int32",
                                    "type": "integer"
                                }
                            ],
                            "ref": "61b89015-5fea-4df6-bdf8-69e360688079",
                            "rows": [
                                [
                                    "93480",
                                    "42",
                                    "female",
                                    "1 year of college",
                                    "12000"
                                ],
                                [
                                    "283826",
                                    "20",
                                    "female",
                                    "1 year of college",
                                    "4800"
                                ],
                                [
                                    "133430",
                                    "71",
                                    "female",
                                    "grade 12",
                                    "57200"
                                ],
                                [
                                    "264850",
                                    "45",
                                    "male",
                                    "grade 11",
                                    "71000"
                                ],
                                [
                                    "159483",
                                    "36",
                                    "female",
                                    "grade 10",
                                    "78200"
                                ],
                                [
                                    "298820",
                                    "30",
                                    "male",
                                    "grade 12",
                                    "28000"
                                ],
                                [
                                    "46405",
                                    "64",
                                    "male",
                                    "2 years of college",
                                    "110000"
                                ],
                                [
                                    "40997",
                                    "39",
                                    "male",
                                    "1 year of college",
                                    "43100"
                                ],
                                [
                                    "217051",
                                    "87",
                                    "female",
                                    "grade 12",
                                    "8400"
                                ],
                                [
                                    "248059",
                                    "55",
                                    "female",
                                    "grade 12",
                                    "8000"
                                ]
                            ],
                            "shape": {
                                "columns": 4,
                                "rows": 10
                            }
                        },
                        "text/html": [
                            "<div>\n",
                            "<style scoped>\n",
                            "    .dataframe tbody tr th:only-of-type {\n",
                            "        vertical-align: middle;\n",
                            "    }\n",
                            "\n",
                            "    .dataframe tbody tr th {\n",
                            "        vertical-align: top;\n",
                            "    }\n",
                            "\n",
                            "    .dataframe thead th {\n",
                            "        text-align: right;\n",
                            "    }\n",
                            "</style>\n",
                            "<table border=\"1\" class=\"dataframe\">\n",
                            "  <thead>\n",
                            "    <tr style=\"text-align: right;\">\n",
                            "      <th></th>\n",
                            "      <th>age</th>\n",
                            "      <th>sex</th>\n",
                            "      <th>educ</th>\n",
                            "      <th>inctot</th>\n",
                            "    </tr>\n",
                            "  </thead>\n",
                            "  <tbody>\n",
                            "    <tr>\n",
                            "      <th>93480</th>\n",
                            "      <td>42</td>\n",
                            "      <td>female</td>\n",
                            "      <td>1 year of college</td>\n",
                            "      <td>12000</td>\n",
                            "    </tr>\n",
                            "    <tr>\n",
                            "      <th>283826</th>\n",
                            "      <td>20</td>\n",
                            "      <td>female</td>\n",
                            "      <td>1 year of college</td>\n",
                            "      <td>4800</td>\n",
                            "    </tr>\n",
                            "    <tr>\n",
                            "      <th>133430</th>\n",
                            "      <td>71</td>\n",
                            "      <td>female</td>\n",
                            "      <td>grade 12</td>\n",
                            "      <td>57200</td>\n",
                            "    </tr>\n",
                            "    <tr>\n",
                            "      <th>264850</th>\n",
                            "      <td>45</td>\n",
                            "      <td>male</td>\n",
                            "      <td>grade 11</td>\n",
                            "      <td>71000</td>\n",
                            "    </tr>\n",
                            "    <tr>\n",
                            "      <th>159483</th>\n",
                            "      <td>36</td>\n",
                            "      <td>female</td>\n",
                            "      <td>grade 10</td>\n",
                            "      <td>78200</td>\n",
                            "    </tr>\n",
                            "    <tr>\n",
                            "      <th>298820</th>\n",
                            "      <td>30</td>\n",
                            "      <td>male</td>\n",
                            "      <td>grade 12</td>\n",
                            "      <td>28000</td>\n",
                            "    </tr>\n",
                            "    <tr>\n",
                            "      <th>46405</th>\n",
                            "      <td>64</td>\n",
                            "      <td>male</td>\n",
                            "      <td>2 years of college</td>\n",
                            "      <td>110000</td>\n",
                            "    </tr>\n",
                            "    <tr>\n",
                            "      <th>40997</th>\n",
                            "      <td>39</td>\n",
                            "      <td>male</td>\n",
                            "      <td>1 year of college</td>\n",
                            "      <td>43100</td>\n",
                            "    </tr>\n",
                            "    <tr>\n",
                            "      <th>217051</th>\n",
                            "      <td>87</td>\n",
                            "      <td>female</td>\n",
                            "      <td>grade 12</td>\n",
                            "      <td>8400</td>\n",
                            "    </tr>\n",
                            "    <tr>\n",
                            "      <th>248059</th>\n",
                            "      <td>55</td>\n",
                            "      <td>female</td>\n",
                            "      <td>grade 12</td>\n",
                            "      <td>8000</td>\n",
                            "    </tr>\n",
                            "  </tbody>\n",
                            "</table>\n",
                            "</div>"
                        ],
                        "text/plain": [
                            "       age     sex                educ  inctot\n",
                            "93480   42  female   1 year of college   12000\n",
                            "283826  20  female   1 year of college    4800\n",
                            "133430  71  female            grade 12   57200\n",
                            "264850  45    male            grade 11   71000\n",
                            "159483  36  female            grade 10   78200\n",
                            "298820  30    male            grade 12   28000\n",
                            "46405   64    male  2 years of college  110000\n",
                            "40997   39    male   1 year of college   43100\n",
                            "217051  87  female            grade 12    8400\n",
                            "248059  55  female            grade 12    8000"
                        ]
                    },
                    "execution_count": 2,
                    "metadata": {},
                    "output_type": "execute_result"
                }
            ],
            "source": [
                "acs = survey[[\"age\", \"sex\", \"educ\", \"inctot\"]]\n",
                "acs.sample(10)"
            ]
        },
        {
            "cell_type": "markdown",
            "metadata": {},
            "source": [
                "### Exercise 3\n",
                "\n",
                "As before, all the values of `9999999` have the potential to cause us real problems, so replace all the values of `inctot` that are `9999999` with `np.nan`. "
            ]
        },
        {
            "cell_type": "code",
            "execution_count": null,
            "metadata": {},
            "outputs": [
                {
                    "data": {
                        "application/vnd.microsoft.datawrangler.viewer.v0+json": {
                            "columns": [
                                {
                                    "name": "index",
                                    "rawType": "int64",
                                    "type": "integer"
                                },
                                {
                                    "name": "age",
                                    "rawType": "category",
                                    "type": "unknown"
                                },
                                {
                                    "name": "sex",
                                    "rawType": "category",
                                    "type": "unknown"
                                },
                                {
                                    "name": "educ",
                                    "rawType": "category",
                                    "type": "unknown"
                                },
                                {
                                    "name": "inctot",
                                    "rawType": "float64",
                                    "type": "float"
                                }
                            ],
                            "ref": "257068b1-cbf1-4128-aa61-bde2ee08ee8b",
                            "rows": [
                                [
                                    "274985",
                                    "40",
                                    "male",
                                    "grade 12",
                                    "0.0"
                                ],
                                [
                                    "91143",
                                    "41",
                                    "male",
                                    "1 year of college",
                                    "74000.0"
                                ],
                                [
                                    "276680",
                                    "33",
                                    "male",
                                    "grade 12",
                                    "97000.0"
                                ],
                                [
                                    "274621",
                                    "87",
                                    "female",
                                    "n/a or no schooling",
                                    "0.0"
                                ],
                                [
                                    "108155",
                                    "11",
                                    "male",
                                    "nursery school to grade 4",
                                    null
                                ],
                                [
                                    "289337",
                                    "38",
                                    "female",
                                    "grade 11",
                                    "0.0"
                                ],
                                [
                                    "88236",
                                    "10",
                                    "male",
                                    "nursery school to grade 4",
                                    null
                                ],
                                [
                                    "81292",
                                    "57",
                                    "male",
                                    "1 year of college",
                                    "100000.0"
                                ],
                                [
                                    "249685",
                                    "27",
                                    "female",
                                    "grade 12",
                                    "0.0"
                                ],
                                [
                                    "294248",
                                    "43",
                                    "female",
                                    "2 years of college",
                                    "1000.0"
                                ]
                            ],
                            "shape": {
                                "columns": 4,
                                "rows": 10
                            }
                        },
                        "text/html": [
                            "<div>\n",
                            "<style scoped>\n",
                            "    .dataframe tbody tr th:only-of-type {\n",
                            "        vertical-align: middle;\n",
                            "    }\n",
                            "\n",
                            "    .dataframe tbody tr th {\n",
                            "        vertical-align: top;\n",
                            "    }\n",
                            "\n",
                            "    .dataframe thead th {\n",
                            "        text-align: right;\n",
                            "    }\n",
                            "</style>\n",
                            "<table border=\"1\" class=\"dataframe\">\n",
                            "  <thead>\n",
                            "    <tr style=\"text-align: right;\">\n",
                            "      <th></th>\n",
                            "      <th>age</th>\n",
                            "      <th>sex</th>\n",
                            "      <th>educ</th>\n",
                            "      <th>inctot</th>\n",
                            "    </tr>\n",
                            "  </thead>\n",
                            "  <tbody>\n",
                            "    <tr>\n",
                            "      <th>274985</th>\n",
                            "      <td>40</td>\n",
                            "      <td>male</td>\n",
                            "      <td>grade 12</td>\n",
                            "      <td>0.0</td>\n",
                            "    </tr>\n",
                            "    <tr>\n",
                            "      <th>91143</th>\n",
                            "      <td>41</td>\n",
                            "      <td>male</td>\n",
                            "      <td>1 year of college</td>\n",
                            "      <td>74000.0</td>\n",
                            "    </tr>\n",
                            "    <tr>\n",
                            "      <th>276680</th>\n",
                            "      <td>33</td>\n",
                            "      <td>male</td>\n",
                            "      <td>grade 12</td>\n",
                            "      <td>97000.0</td>\n",
                            "    </tr>\n",
                            "    <tr>\n",
                            "      <th>274621</th>\n",
                            "      <td>87</td>\n",
                            "      <td>female</td>\n",
                            "      <td>n/a or no schooling</td>\n",
                            "      <td>0.0</td>\n",
                            "    </tr>\n",
                            "    <tr>\n",
                            "      <th>108155</th>\n",
                            "      <td>11</td>\n",
                            "      <td>male</td>\n",
                            "      <td>nursery school to grade 4</td>\n",
                            "      <td>NaN</td>\n",
                            "    </tr>\n",
                            "    <tr>\n",
                            "      <th>289337</th>\n",
                            "      <td>38</td>\n",
                            "      <td>female</td>\n",
                            "      <td>grade 11</td>\n",
                            "      <td>0.0</td>\n",
                            "    </tr>\n",
                            "    <tr>\n",
                            "      <th>88236</th>\n",
                            "      <td>10</td>\n",
                            "      <td>male</td>\n",
                            "      <td>nursery school to grade 4</td>\n",
                            "      <td>NaN</td>\n",
                            "    </tr>\n",
                            "    <tr>\n",
                            "      <th>81292</th>\n",
                            "      <td>57</td>\n",
                            "      <td>male</td>\n",
                            "      <td>1 year of college</td>\n",
                            "      <td>100000.0</td>\n",
                            "    </tr>\n",
                            "    <tr>\n",
                            "      <th>249685</th>\n",
                            "      <td>27</td>\n",
                            "      <td>female</td>\n",
                            "      <td>grade 12</td>\n",
                            "      <td>0.0</td>\n",
                            "    </tr>\n",
                            "    <tr>\n",
                            "      <th>294248</th>\n",
                            "      <td>43</td>\n",
                            "      <td>female</td>\n",
                            "      <td>2 years of college</td>\n",
                            "      <td>1000.0</td>\n",
                            "    </tr>\n",
                            "  </tbody>\n",
                            "</table>\n",
                            "</div>"
                        ],
                        "text/plain": [
                            "       age     sex                       educ    inctot\n",
                            "274985  40    male                   grade 12       0.0\n",
                            "91143   41    male          1 year of college   74000.0\n",
                            "276680  33    male                   grade 12   97000.0\n",
                            "274621  87  female        n/a or no schooling       0.0\n",
                            "108155  11    male  nursery school to grade 4       NaN\n",
                            "289337  38  female                   grade 11       0.0\n",
                            "88236   10    male  nursery school to grade 4       NaN\n",
                            "81292   57    male          1 year of college  100000.0\n",
                            "249685  27  female                   grade 12       0.0\n",
                            "294248  43  female         2 years of college    1000.0"
                        ]
                    },
                    "execution_count": 4,
                    "metadata": {},
                    "output_type": "execute_result"
                }
            ],
            "source": [
                "import numpy as np\n",
                "\n",
                "acs[\"inctot\"] = acs[\"inctot\"].replace(9_999_999, np.nan)\n",
                "acs.sample(10)"
            ]
        },
        {
            "cell_type": "markdown",
            "metadata": {},
            "source": [
                "### Exercise 4\n",
                "\n",
                "Attempt to calculate the average age of people in our data. What do you get? Why are you getting that error?\n",
                "\n",
                "You *should* get an error in trying to answer this question, but **PLEASE LEAVE THE CODE THAT GENERATES THIS ERROR COMMENTED OUT SO YOUR NOTEBOOK WILL RUN IN THE AUTOGRADER**. \n",
                "\n",
                "Then talk about the error in a markdown cell."
            ]
        },
        {
            "cell_type": "code",
            "execution_count": null,
            "metadata": {},
            "outputs": [
                {
                    "ename": "TypeError",
                    "evalue": "'Categorical' with dtype category does not support reduction 'mean'",
                    "output_type": "error",
                    "traceback": [
                        "\u001b[31m---------------------------------------------------------------------------\u001b[39m",
                        "\u001b[31mTypeError\u001b[39m                                 Traceback (most recent call last)",
                        "\u001b[36mCell\u001b[39m\u001b[36m \u001b[39m\u001b[32mIn[5]\u001b[39m\u001b[32m, line 1\u001b[39m\n\u001b[32m----> \u001b[39m\u001b[32m1\u001b[39m acs[\u001b[33m'\u001b[39m\u001b[33mage\u001b[39m\u001b[33m'\u001b[39m].mean()\n",
                        "\u001b[36mFile \u001b[39m\u001b[32m~/miniforge3/lib/python3.12/site-packages/pandas/core/series.py:6560\u001b[39m, in \u001b[36mSeries.mean\u001b[39m\u001b[34m(self, axis, skipna, numeric_only, **kwargs)\u001b[39m\n\u001b[32m   6552\u001b[39m \u001b[38;5;129m@doc\u001b[39m(make_doc(\u001b[33m\"\u001b[39m\u001b[33mmean\u001b[39m\u001b[33m\"\u001b[39m, ndim=\u001b[32m1\u001b[39m))\n\u001b[32m   6553\u001b[39m \u001b[38;5;28;01mdef\u001b[39;00m\u001b[38;5;250m \u001b[39m\u001b[34mmean\u001b[39m(\n\u001b[32m   6554\u001b[39m     \u001b[38;5;28mself\u001b[39m,\n\u001b[32m   (...)\u001b[39m\u001b[32m   6558\u001b[39m     **kwargs,\n\u001b[32m   6559\u001b[39m ):\n\u001b[32m-> \u001b[39m\u001b[32m6560\u001b[39m     \u001b[38;5;28;01mreturn\u001b[39;00m NDFrame.mean(\u001b[38;5;28mself\u001b[39m, axis, skipna, numeric_only, **kwargs)\n",
                        "\u001b[36mFile \u001b[39m\u001b[32m~/miniforge3/lib/python3.12/site-packages/pandas/core/generic.py:12439\u001b[39m, in \u001b[36mNDFrame.mean\u001b[39m\u001b[34m(self, axis, skipna, numeric_only, **kwargs)\u001b[39m\n\u001b[32m  12432\u001b[39m \u001b[38;5;28;01mdef\u001b[39;00m\u001b[38;5;250m \u001b[39m\u001b[34mmean\u001b[39m(\n\u001b[32m  12433\u001b[39m     \u001b[38;5;28mself\u001b[39m,\n\u001b[32m  12434\u001b[39m     axis: Axis | \u001b[38;5;28;01mNone\u001b[39;00m = \u001b[32m0\u001b[39m,\n\u001b[32m   (...)\u001b[39m\u001b[32m  12437\u001b[39m     **kwargs,\n\u001b[32m  12438\u001b[39m ) -> Series | \u001b[38;5;28mfloat\u001b[39m:\n\u001b[32m> \u001b[39m\u001b[32m12439\u001b[39m     \u001b[38;5;28;01mreturn\u001b[39;00m \u001b[38;5;28mself\u001b[39m._stat_function(\n\u001b[32m  12440\u001b[39m         \u001b[33m\"\u001b[39m\u001b[33mmean\u001b[39m\u001b[33m\"\u001b[39m, nanops.nanmean, axis, skipna, numeric_only, **kwargs\n\u001b[32m  12441\u001b[39m     )\n",
                        "\u001b[36mFile \u001b[39m\u001b[32m~/miniforge3/lib/python3.12/site-packages/pandas/core/generic.py:12396\u001b[39m, in \u001b[36mNDFrame._stat_function\u001b[39m\u001b[34m(self, name, func, axis, skipna, numeric_only, **kwargs)\u001b[39m\n\u001b[32m  12392\u001b[39m nv.validate_func(name, (), kwargs)\n\u001b[32m  12394\u001b[39m validate_bool_kwarg(skipna, \u001b[33m\"\u001b[39m\u001b[33mskipna\u001b[39m\u001b[33m\"\u001b[39m, none_allowed=\u001b[38;5;28;01mFalse\u001b[39;00m)\n\u001b[32m> \u001b[39m\u001b[32m12396\u001b[39m \u001b[38;5;28;01mreturn\u001b[39;00m \u001b[38;5;28mself\u001b[39m._reduce(\n\u001b[32m  12397\u001b[39m     func, name=name, axis=axis, skipna=skipna, numeric_only=numeric_only\n\u001b[32m  12398\u001b[39m )\n",
                        "\u001b[36mFile \u001b[39m\u001b[32m~/miniforge3/lib/python3.12/site-packages/pandas/core/series.py:6454\u001b[39m, in \u001b[36mSeries._reduce\u001b[39m\u001b[34m(self, op, name, axis, skipna, numeric_only, filter_type, **kwds)\u001b[39m\n\u001b[32m   6450\u001b[39m     \u001b[38;5;28mself\u001b[39m._get_axis_number(axis)\n\u001b[32m   6452\u001b[39m \u001b[38;5;28;01mif\u001b[39;00m \u001b[38;5;28misinstance\u001b[39m(delegate, ExtensionArray):\n\u001b[32m   6453\u001b[39m     \u001b[38;5;66;03m# dispatch to ExtensionArray interface\u001b[39;00m\n\u001b[32m-> \u001b[39m\u001b[32m6454\u001b[39m     \u001b[38;5;28;01mreturn\u001b[39;00m delegate._reduce(name, skipna=skipna, **kwds)\n\u001b[32m   6456\u001b[39m \u001b[38;5;28;01melse\u001b[39;00m:\n\u001b[32m   6457\u001b[39m     \u001b[38;5;66;03m# dispatch to numpy arrays\u001b[39;00m\n\u001b[32m   6458\u001b[39m     \u001b[38;5;28;01mif\u001b[39;00m numeric_only \u001b[38;5;129;01mand\u001b[39;00m \u001b[38;5;28mself\u001b[39m.dtype.kind \u001b[38;5;129;01mnot\u001b[39;00m \u001b[38;5;129;01min\u001b[39;00m \u001b[33m\"\u001b[39m\u001b[33miufcb\u001b[39m\u001b[33m\"\u001b[39m:\n\u001b[32m   6459\u001b[39m         \u001b[38;5;66;03m# i.e. not is_numeric_dtype(self.dtype)\u001b[39;00m\n",
                        "\u001b[36mFile \u001b[39m\u001b[32m~/miniforge3/lib/python3.12/site-packages/pandas/core/arrays/categorical.py:2391\u001b[39m, in \u001b[36mCategorical._reduce\u001b[39m\u001b[34m(self, name, skipna, keepdims, **kwargs)\u001b[39m\n\u001b[32m   2388\u001b[39m \u001b[38;5;28;01mdef\u001b[39;00m\u001b[38;5;250m \u001b[39m\u001b[34m_reduce\u001b[39m(\n\u001b[32m   2389\u001b[39m     \u001b[38;5;28mself\u001b[39m, name: \u001b[38;5;28mstr\u001b[39m, *, skipna: \u001b[38;5;28mbool\u001b[39m = \u001b[38;5;28;01mTrue\u001b[39;00m, keepdims: \u001b[38;5;28mbool\u001b[39m = \u001b[38;5;28;01mFalse\u001b[39;00m, **kwargs\n\u001b[32m   2390\u001b[39m ):\n\u001b[32m-> \u001b[39m\u001b[32m2391\u001b[39m     result = \u001b[38;5;28msuper\u001b[39m()._reduce(name, skipna=skipna, keepdims=keepdims, **kwargs)\n\u001b[32m   2392\u001b[39m     \u001b[38;5;28;01mif\u001b[39;00m name \u001b[38;5;129;01min\u001b[39;00m [\u001b[33m\"\u001b[39m\u001b[33margmax\u001b[39m\u001b[33m\"\u001b[39m, \u001b[33m\"\u001b[39m\u001b[33margmin\u001b[39m\u001b[33m\"\u001b[39m]:\n\u001b[32m   2393\u001b[39m         \u001b[38;5;66;03m# don't wrap in Categorical!\u001b[39;00m\n\u001b[32m   2394\u001b[39m         \u001b[38;5;28;01mreturn\u001b[39;00m result\n",
                        "\u001b[36mFile \u001b[39m\u001b[32m~/miniforge3/lib/python3.12/site-packages/pandas/core/arrays/base.py:1954\u001b[39m, in \u001b[36mExtensionArray._reduce\u001b[39m\u001b[34m(self, name, skipna, keepdims, **kwargs)\u001b[39m\n\u001b[32m   1952\u001b[39m meth = \u001b[38;5;28mgetattr\u001b[39m(\u001b[38;5;28mself\u001b[39m, name, \u001b[38;5;28;01mNone\u001b[39;00m)\n\u001b[32m   1953\u001b[39m \u001b[38;5;28;01mif\u001b[39;00m meth \u001b[38;5;129;01mis\u001b[39;00m \u001b[38;5;28;01mNone\u001b[39;00m:\n\u001b[32m-> \u001b[39m\u001b[32m1954\u001b[39m     \u001b[38;5;28;01mraise\u001b[39;00m \u001b[38;5;167;01mTypeError\u001b[39;00m(\n\u001b[32m   1955\u001b[39m         \u001b[33mf\u001b[39m\u001b[33m\"\u001b[39m\u001b[33m'\u001b[39m\u001b[38;5;132;01m{\u001b[39;00m\u001b[38;5;28mtype\u001b[39m(\u001b[38;5;28mself\u001b[39m).\u001b[34m__name__\u001b[39m\u001b[38;5;132;01m}\u001b[39;00m\u001b[33m'\u001b[39m\u001b[33m with dtype \u001b[39m\u001b[38;5;132;01m{\u001b[39;00m\u001b[38;5;28mself\u001b[39m.dtype\u001b[38;5;132;01m}\u001b[39;00m\u001b[33m \u001b[39m\u001b[33m\"\u001b[39m\n\u001b[32m   1956\u001b[39m         \u001b[33mf\u001b[39m\u001b[33m\"\u001b[39m\u001b[33mdoes not support reduction \u001b[39m\u001b[33m'\u001b[39m\u001b[38;5;132;01m{\u001b[39;00mname\u001b[38;5;132;01m}\u001b[39;00m\u001b[33m'\u001b[39m\u001b[33m\"\u001b[39m\n\u001b[32m   1957\u001b[39m     )\n\u001b[32m   1958\u001b[39m result = meth(skipna=skipna, **kwargs)\n\u001b[32m   1959\u001b[39m \u001b[38;5;28;01mif\u001b[39;00m keepdims:\n",
                        "\u001b[31mTypeError\u001b[39m: 'Categorical' with dtype category does not support reduction 'mean'"
                    ]
                }
            ],
            "source": [
                "# acs['age'].mean()"
            ]
        },
        {
            "cell_type": "markdown",
            "metadata": {},
            "source": [
                "The error we see is: \n",
                "TypeError: 'Categorical' with dtype category does not support reduction 'mean'.\n",
                "This means that the data type is categorical, which is not the expected float data type we need for the age variable for calculation."
            ]
        },
        {
            "cell_type": "markdown",
            "metadata": {},
            "source": [
                "### Exercise 5\n",
                "\n",
                "We want to be able to calculate things using age, so we need it to be a numeric type. Check the current type of `age`, and look at all the values of `age` to figure out why it's categorical and not numeric. You should find two problematic categories. Store the values of these categories in `\"ex5_age_young\"` and `\"ex5_age_old\"` (once you find them, it should be clear which is which)."
            ]
        },
        {
            "cell_type": "code",
            "execution_count": null,
            "metadata": {},
            "outputs": [
                {
                    "name": "stdout",
                    "output_type": "stream",
                    "text": [
                        "category\n"
                    ]
                },
                {
                    "data": {
                        "application/vnd.microsoft.datawrangler.viewer.v0+json": {
                            "columns": [
                                {
                                    "name": "age",
                                    "rawType": "category",
                                    "type": "unknown"
                                },
                                {
                                    "name": "count",
                                    "rawType": "int64",
                                    "type": "integer"
                                }
                            ],
                            "ref": "eec7e600-ff4b-4728-bfa7-b6a061407e32",
                            "rows": [
                                [
                                    "60",
                                    "4950"
                                ],
                                [
                                    "54",
                                    "4821"
                                ],
                                [
                                    "59",
                                    "4776"
                                ],
                                [
                                    "56",
                                    "4776"
                                ],
                                [
                                    "58",
                                    "4734"
                                ],
                                [
                                    "57",
                                    "4720"
                                ],
                                [
                                    "55",
                                    "4693"
                                ],
                                [
                                    "61",
                                    "4644"
                                ],
                                [
                                    "62",
                                    "4614"
                                ],
                                [
                                    "53",
                                    "4600"
                                ],
                                [
                                    "18",
                                    "4496"
                                ],
                                [
                                    "63",
                                    "4488"
                                ],
                                [
                                    "52",
                                    "4418"
                                ],
                                [
                                    "65",
                                    "4362"
                                ],
                                [
                                    "19",
                                    "4342"
                                ],
                                [
                                    "64",
                                    "4287"
                                ],
                                [
                                    "50",
                                    "4272"
                                ],
                                [
                                    "47",
                                    "4256"
                                ],
                                [
                                    "16",
                                    "4106"
                                ],
                                [
                                    "66",
                                    "4106"
                                ],
                                [
                                    "46",
                                    "4064"
                                ],
                                [
                                    "67",
                                    "4055"
                                ],
                                [
                                    "51",
                                    "4021"
                                ],
                                [
                                    "17",
                                    "4021"
                                ],
                                [
                                    "10",
                                    "3997"
                                ],
                                [
                                    "20",
                                    "3992"
                                ],
                                [
                                    "9",
                                    "3977"
                                ],
                                [
                                    "48",
                                    "3956"
                                ],
                                [
                                    "70",
                                    "3953"
                                ],
                                [
                                    "68",
                                    "3951"
                                ],
                                [
                                    "34",
                                    "3942"
                                ],
                                [
                                    "15",
                                    "3942"
                                ],
                                [
                                    "49",
                                    "3940"
                                ],
                                [
                                    "45",
                                    "3939"
                                ],
                                [
                                    "30",
                                    "3917"
                                ],
                                [
                                    "27",
                                    "3884"
                                ],
                                [
                                    "40",
                                    "3884"
                                ],
                                [
                                    "32",
                                    "3883"
                                ],
                                [
                                    "31",
                                    "3880"
                                ],
                                [
                                    "69",
                                    "3877"
                                ],
                                [
                                    "37",
                                    "3870"
                                ],
                                [
                                    "35",
                                    "3867"
                                ],
                                [
                                    "14",
                                    "3847"
                                ],
                                [
                                    "12",
                                    "3845"
                                ],
                                [
                                    "36",
                                    "3834"
                                ],
                                [
                                    "29",
                                    "3810"
                                ],
                                [
                                    "28",
                                    "3808"
                                ],
                                [
                                    "13",
                                    "3800"
                                ],
                                [
                                    "11",
                                    "3791"
                                ],
                                [
                                    "39",
                                    "3783"
                                ]
                            ],
                            "shape": {
                                "columns": 1,
                                "rows": 97
                            }
                        },
                        "text/plain": [
                            "age\n",
                            "60    4950\n",
                            "54    4821\n",
                            "59    4776\n",
                            "56    4776\n",
                            "58    4734\n",
                            "      ... \n",
                            "93     476\n",
                            "95     471\n",
                            "92     355\n",
                            "91     227\n",
                            "96      10\n",
                            "Name: count, Length: 97, dtype: int64"
                        ]
                    },
                    "execution_count": 11,
                    "metadata": {},
                    "output_type": "execute_result"
                }
            ],
            "source": [
                "results = {}\n",
                "print(acs[\"age\"].dtype)\n",
                "ex5_age_young = \"less than 1 year old\"\n",
                "ex5_age_old = \"90 (90+ in 1980 and 1990)\"\n",
                "\n",
                "results[\"ex5_age_young\"] = ex5_age_young\n",
                "results[\"ex5_age_old\"] = ex5_age_old\n",
                "\n",
                "acs[\"age\"].value_counts()"
            ]
        },
        {
            "cell_type": "markdown",
            "metadata": {},
            "source": [
                "### Exercise 6\n",
                "\n",
                "In order to convert `age` into a numeric variable, we need to replace those problematic entries with values that `pandas` can later convert into numbers. Pick appropriate substitutions for the existing values and replace the current values. \n",
                "\n",
                "**Hint 1:** Categorical variables act like strings, so you might want to use string methods! \n",
                "\n",
                "**Hint 2:** Remember that characters like parentheses, pluses, asterisks, etc. are special in Python strings, and you have to escape them if you want them to be interpreted literally!\n",
                "\n",
                "**Hint 3:** Because the US Census has been conducted regularly for hundreds of years but exactly how the census has been conducted have occasionally changed, variables are sometimes coded in a way that might be interpreted in different ways for different census years. For example, hypothetically, one might write `90 (90+ in 1980 and 1990)` if the Censuses conducted in 1980 and 1990 used to top-code age at 90 (any values *over* 90 were just coded as 90), but more recent Censuses no longer top-coded age and recorded ages over 90 as the respondents actual age."
            ]
        },
        {
            "cell_type": "code",
            "execution_count": null,
            "metadata": {},
            "outputs": [],
            "source": [
                "acs[\"age\"] = acs[\"age\"].cat.rename_categories({ex5_age_young: \"0\", ex5_age_old: \"90\"})"
            ]
        },
        {
            "cell_type": "markdown",
            "metadata": {},
            "source": [
                "### Exercise 7\n",
                "\n",
                "Now convert age from a categorical to numeric. Calculate the average age amoung this group, and store it in `\"ex7_avg_age\"`."
            ]
        },
        {
            "cell_type": "code",
            "execution_count": null,
            "metadata": {},
            "outputs": [
                {
                    "name": "stdout",
                    "output_type": "stream",
                    "text": [
                        "The average age of the dataset is 41\n"
                    ]
                }
            ],
            "source": [
                "acs[\"age\"] = pd.to_numeric(acs[\"age\"])\n",
                "\n",
                "ex7_avg_age = acs[\"age\"].mean()\n",
                "\n",
                "results[\"ex7_avg_age\"] = ex7_avg_age\n",
                "\n",
                "print(f\"The average age of the dataset is {ex7_avg_age:.0f}\")"
            ]
        },
        {
            "cell_type": "markdown",
            "metadata": {},
            "source": [
                "### Exercise 8\n",
                "\n",
                "Let's now filter out anyone in our data whose age is less than 18. Note that before made `age` a numeric variable, we couldn't do this! Again, calculate the average age and this time store it in `\"ex8_avg_age\"`. \n",
                "\n",
                "Use this sample of people 18 and over for all subsequent exercises."
            ]
        },
        {
            "cell_type": "code",
            "execution_count": null,
            "metadata": {},
            "outputs": [
                {
                    "name": "stdout",
                    "output_type": "stream",
                    "text": [
                        "The average age of people over 18 is 50\n"
                    ]
                }
            ],
            "source": [
                "over18 = acs[acs[\"age\"] >= 18]\n",
                "\n",
                "ex8_avg_age = over18[\"age\"].mean()\n",
                "\n",
                "results[\"ex8_avg_age\"] = ex8_avg_age\n",
                "\n",
                "print(f\"The average age of people over 18 is {ex8_avg_age:.0f}\")"
            ]
        },
        {
            "cell_type": "markdown",
            "metadata": {},
            "source": [
                "### Exercise 9\n",
                "\n",
                "Create an indicator variable for whether each person has *at least* a college Bachelor's degree called `college_degree`. Use this variable to calculate the number of people in the dataset with a college degree. You may assume that to get a college degree you need to complete at least 4 years of college. Save the result as `\"ex9_num_college\"`."
            ]
        },
        {
            "cell_type": "code",
            "execution_count": null,
            "metadata": {},
            "outputs": [
                {
                    "data": {
                        "application/vnd.microsoft.datawrangler.viewer.v0+json": {
                            "columns": [
                                {
                                    "name": "index",
                                    "rawType": "int64",
                                    "type": "integer"
                                },
                                {
                                    "name": "educ",
                                    "rawType": "bool",
                                    "type": "boolean"
                                }
                            ],
                            "ref": "01a3ffe6-41cf-48f5-b375-6fcda30b7c53",
                            "rows": [
                                [
                                    "2",
                                    "True"
                                ],
                                [
                                    "3",
                                    "False"
                                ],
                                [
                                    "5",
                                    "False"
                                ],
                                [
                                    "6",
                                    "False"
                                ],
                                [
                                    "10",
                                    "False"
                                ],
                                [
                                    "12",
                                    "False"
                                ],
                                [
                                    "15",
                                    "False"
                                ],
                                [
                                    "16",
                                    "False"
                                ],
                                [
                                    "17",
                                    "True"
                                ],
                                [
                                    "18",
                                    "True"
                                ],
                                [
                                    "19",
                                    "False"
                                ],
                                [
                                    "22",
                                    "False"
                                ],
                                [
                                    "23",
                                    "False"
                                ],
                                [
                                    "24",
                                    "False"
                                ],
                                [
                                    "25",
                                    "True"
                                ],
                                [
                                    "26",
                                    "True"
                                ],
                                [
                                    "28",
                                    "True"
                                ],
                                [
                                    "29",
                                    "True"
                                ],
                                [
                                    "33",
                                    "False"
                                ],
                                [
                                    "34",
                                    "False"
                                ],
                                [
                                    "35",
                                    "True"
                                ],
                                [
                                    "36",
                                    "False"
                                ],
                                [
                                    "38",
                                    "False"
                                ],
                                [
                                    "39",
                                    "False"
                                ],
                                [
                                    "40",
                                    "False"
                                ],
                                [
                                    "41",
                                    "True"
                                ],
                                [
                                    "45",
                                    "True"
                                ],
                                [
                                    "46",
                                    "False"
                                ],
                                [
                                    "47",
                                    "False"
                                ],
                                [
                                    "48",
                                    "False"
                                ],
                                [
                                    "50",
                                    "True"
                                ],
                                [
                                    "51",
                                    "True"
                                ],
                                [
                                    "52",
                                    "True"
                                ],
                                [
                                    "54",
                                    "True"
                                ],
                                [
                                    "55",
                                    "True"
                                ],
                                [
                                    "56",
                                    "True"
                                ],
                                [
                                    "57",
                                    "True"
                                ],
                                [
                                    "58",
                                    "False"
                                ],
                                [
                                    "59",
                                    "True"
                                ],
                                [
                                    "60",
                                    "True"
                                ],
                                [
                                    "61",
                                    "True"
                                ],
                                [
                                    "62",
                                    "True"
                                ],
                                [
                                    "63",
                                    "False"
                                ],
                                [
                                    "64",
                                    "True"
                                ],
                                [
                                    "65",
                                    "True"
                                ],
                                [
                                    "66",
                                    "False"
                                ],
                                [
                                    "67",
                                    "False"
                                ],
                                [
                                    "68",
                                    "False"
                                ],
                                [
                                    "69",
                                    "False"
                                ],
                                [
                                    "70",
                                    "False"
                                ]
                            ],
                            "shape": {
                                "columns": 1,
                                "rows": 253034
                            }
                        },
                        "text/plain": [
                            "2          True\n",
                            "3         False\n",
                            "5         False\n",
                            "6         False\n",
                            "10        False\n",
                            "          ...  \n",
                            "318998     True\n",
                            "318999     True\n",
                            "319001    False\n",
                            "319002     True\n",
                            "319003     True\n",
                            "Name: educ, Length: 253034, dtype: bool"
                        ]
                    },
                    "execution_count": 44,
                    "metadata": {},
                    "output_type": "execute_result"
                }
            ],
            "source": [
                "over18[\"educ\"].value_counts()\n",
                "\n",
                "college_degree = (over18[\"educ\"] == \"4 years of college\") | (\n",
                "    over18[\"educ\"] == \"5+ years of college\"\n",
                ")\n",
                "\n",
                "over18[over18[\"educ\"] == college_degree].sum()"
            ]
        },
        {
            "cell_type": "markdown",
            "metadata": {},
            "source": [
                "### Exercise 10\n",
                "\n",
                "Let's examine how the educational gender gap. Use `pd.crosstab` to create a cross-tabulation of `sex` and `college_degree`. `pd.crosstab` will give you the number of people who have each combination of `sex` and `college_degree` (so in this case, it will give us a 2x2 table with Male and Female as rows, and `college_degree` True and False as columns, or vice versa. "
            ]
        },
        {
            "cell_type": "markdown",
            "metadata": {},
            "source": [
                "### Exercise 11\n",
                "\n",
                "Counts are kind of hard to interpret. `pd.crosstab` can also normalize values to give percentages. Look at the `pd.crosstab` help file to figure out how to normalize the values in the table. Normalize them so that you get the share of men with and without college degree, and the share of women with and without college degrees.\n",
                "\n",
                "Store the share (between 0 and 1) of men with college degrees in `\"ex11_share_male_w_degrees\"`, and the share of women with degrees in `\"ex11_share_female_w_degrees\"`."
            ]
        },
        {
            "cell_type": "markdown",
            "metadata": {},
            "source": [
                "### Exercise 12\n",
                "\n",
                "Now, let's recreate that table for people who are 40 and over and people under 40. Over time, what does this suggest about the absolute difference in the share of men and women earning college degrees? Has it gotten larger, stayed the same, or gotten smaller? Store your answer (either `\"the absolute difference has increased\"` or `\"the absolute difference has decreased\"`) in `\"ex12_comparing\"`."
            ]
        },
        {
            "cell_type": "markdown",
            "metadata": {},
            "source": [
                "### Exercise 13\n",
                "\n",
                "In words, what is causing the change noted in Exercise 12 (i.e., looking at the tables above, tell me a story about Men and Women's College attainment)."
            ]
        },
        {
            "cell_type": "markdown",
            "metadata": {},
            "source": [
                "## Want More Practice?\n",
                "\n",
                "Calculate the educational racial gap in the United States for White Americans, Black Americans, Hispanic Americans, and other groups. \n",
                "\n",
                "Note that to do these calculations, you'll have to deal with the fact that unlike most Americans, the American Census Bureau treats \"Hispanic\" not as a racial category, but a linguistic one. As a result, the racial category \"White\" in `race` actually includes most Hispanic Americans. For this analysis, we wish to work with the mutually exclusive categories of \"White, non-Hispanic\", \"White, Hispanic\", \"Black (Hispanic or non-Hispanic)\", and a category for everyone else. "
            ]
        }
    ],
    "metadata": {
        "kernelspec": {
            "display_name": "base",
            "language": "python",
            "name": "python3"
        },
        "language_info": {
            "codemirror_mode": {
                "name": "ipython",
                "version": 3
            },
            "file_extension": ".py",
            "mimetype": "text/x-python",
            "name": "python",
            "nbconvert_exporter": "python",
            "pygments_lexer": "ipython3",
            "version": "3.12.11"
        }
    },
    "nbformat": 4,
    "nbformat_minor": 4
}
